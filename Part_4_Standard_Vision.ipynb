{
  "nbformat": 4,
  "nbformat_minor": 0,
  "metadata": {
    "colab": {
      "provenance": [],
      "include_colab_link": true
    },
    "kernelspec": {
      "name": "python3",
      "display_name": "Python 3"
    },
    "language_info": {
      "name": "python"
    }
  },
  "cells": [
    {
      "cell_type": "markdown",
      "metadata": {
        "id": "view-in-github",
        "colab_type": "text"
      },
      "source": [
        "<a href=\"https://colab.research.google.com/github/syedanida/Computer-Vision/blob/main/Part_4_Standard_Vision.ipynb\" target=\"_parent\"><img src=\"https://colab.research.google.com/assets/colab-badge.svg\" alt=\"Open In Colab\"/></a>"
      ]
    },
    {
      "cell_type": "code",
      "execution_count": null,
      "metadata": {
        "_cell_guid": "b1076dfc-b9ad-4769-8c92-a6c4dae69d19",
        "_uuid": "8f2839f25d086af736a60e9eeb907d3b93b6e0e5",
        "id": "8M50Z-wHS982",
        "outputId": "61261f91-1f66-4cc9-e98a-e58261706ad1"
      },
      "outputs": [
        {
          "name": "stdout",
          "output_type": "stream",
          "text": [
            "['train.csv', 'test.csv', 'sample_submission.csv']\n"
          ]
        }
      ],
      "source": [
        "import numpy as np\n",
        "import pandas as pd\n",
        "import os\n",
        "print(os.listdir(\"../input\"))"
      ]
    },
    {
      "cell_type": "code",
      "execution_count": null,
      "metadata": {
        "_cell_guid": "79c7e3d0-c299-4dcb-8224-4455121ee9b0",
        "_uuid": "d629ff2d2480ee46fbb7e2d37f6b5fab8052498a",
        "id": "3a34suHfS984",
        "outputId": "15b4a0b3-99b1-4b3d-a3de-446b2845dda3"
      },
      "outputs": [
        {
          "name": "stdout",
          "output_type": "stream",
          "text": [
            "Collecting git+https://github.com/qubvel/efficientnet\r\n",
            "  Cloning https://github.com/qubvel/efficientnet to /tmp/pip-req-build-3bziyqc2\r\n",
            "Building wheels for collected packages: efficientnet\r\n",
            "  Building wheel for efficientnet (setup.py) ... \u001b[?25l-\b \bdone\r\n",
            "\u001b[?25h  Stored in directory: /tmp/pip-ephem-wheel-cache-o4df88vi/wheels/64/60/2e/30ebaa76ed1626e86bfb0cc0579b737fdb7d9ff8cb9522663a\r\n",
            "Successfully built efficientnet\r\n",
            "Installing collected packages: efficientnet\r\n",
            "Successfully installed efficientnet-0.0.3\r\n",
            "\u001b[33mYou are using pip version 19.0.3, however version 19.1.1 is available.\r\n",
            "You should consider upgrading via the 'pip install --upgrade pip' command.\u001b[0m\r\n"
          ]
        }
      ],
      "source": [
        "!pip install git+https://github.com/qubvel/efficientnet"
      ]
    },
    {
      "cell_type": "code",
      "execution_count": null,
      "metadata": {
        "id": "Shsn7adrS984",
        "outputId": "1c8a298f-3edc-4dbc-f5f3-2d1d70dc6f2b"
      },
      "outputs": [
        {
          "name": "stderr",
          "output_type": "stream",
          "text": [
            "Using TensorFlow backend.\n"
          ]
        }
      ],
      "source": [
        "from efficientnet import EfficientNetB3"
      ]
    },
    {
      "cell_type": "code",
      "execution_count": null,
      "metadata": {
        "id": "_6mQC_U4S984"
      },
      "outputs": [],
      "source": [
        "from keras.models import Sequential\n",
        "from keras.layers import Dense, Dropout, Flatten\n",
        "from keras.models import Model\n",
        "from keras import optimizers\n",
        "from keras.utils import np_utils\n",
        "import cv2\n",
        "import matplotlib.pyplot as plt\n",
        "%matplotlib inline"
      ]
    },
    {
      "cell_type": "code",
      "execution_count": null,
      "metadata": {
        "id": "710ti5aDS984"
      },
      "outputs": [],
      "source": [
        "# Load the data\n",
        "train = pd.read_csv(\"../input/train.csv\")\n",
        "test = pd.read_csv(\"../input/test.csv\")"
      ]
    },
    {
      "cell_type": "code",
      "execution_count": null,
      "metadata": {
        "id": "FtOEtTmrS984"
      },
      "outputs": [],
      "source": [
        "Y_train = train[\"label\"]\n",
        "\n",
        "# Drop 'label' column\n",
        "X_train = train.drop(labels = [\"label\"],axis = 1)"
      ]
    },
    {
      "cell_type": "code",
      "execution_count": null,
      "metadata": {
        "id": "30OxJU27S984",
        "outputId": "222030a6-8cc0-4d3f-8019-7f96ae2e5bea"
      },
      "outputs": [
        {
          "data": {
            "text/plain": [
              "((42000, 784), (28000, 784))"
            ]
          },
          "execution_count": 7,
          "metadata": {},
          "output_type": "execute_result"
        }
      ],
      "source": [
        "X_train.shape, test.shape"
      ]
    },
    {
      "cell_type": "code",
      "execution_count": null,
      "metadata": {
        "id": "aY5d3u8oS984"
      },
      "outputs": [],
      "source": [
        "# Normilize data\n",
        "X_train = X_train.astype('float32')\n",
        "test = test.astype('float32')\n",
        "X_train /= 255\n",
        "test /= 255"
      ]
    },
    {
      "cell_type": "code",
      "execution_count": null,
      "metadata": {
        "id": "pAlb7NLnS985"
      },
      "outputs": [],
      "source": [
        "X_train = X_train.values.reshape(-1,28,28,1)\n",
        "test = test.values.reshape(-1,28,28,1)"
      ]
    },
    {
      "cell_type": "code",
      "execution_count": null,
      "metadata": {
        "id": "LQgQ60SvS985",
        "outputId": "b055d316-1b1a-4c29-cc3e-268211debf3f"
      },
      "outputs": [
        {
          "data": {
            "text/plain": [
              "((42000, 28, 28, 1), (28000, 28, 28, 1))"
            ]
          },
          "execution_count": 10,
          "metadata": {},
          "output_type": "execute_result"
        }
      ],
      "source": [
        "X_train.shape, test.shape"
      ]
    },
    {
      "cell_type": "code",
      "execution_count": null,
      "metadata": {
        "id": "ujnIDW28S985"
      },
      "outputs": [],
      "source": [
        "X_train3 = np.full((42000, 28, 28, 3), 0.0)\n",
        "\n",
        "for i, s in enumerate(X_train):\n",
        "    X_train3[i] = cv2.cvtColor(s, cv2.COLOR_GRAY2RGB)"
      ]
    },
    {
      "cell_type": "code",
      "execution_count": null,
      "metadata": {
        "id": "aoXioXqOS985",
        "outputId": "358a4030-9f5a-4c1f-c4f5-618248a5e53d"
      },
      "outputs": [
        {
          "data": {
            "image/png": "[encoded data removed]",
            "text/plain": [
              "<Figure size 432x288 with 1 Axes>"
            ]
          },
          "metadata": {},
          "output_type": "display_data"
        }
      ],
      "source": [
        "g = plt.imshow(X_train3[1])"
      ]
    },
    {
      "cell_type": "code",
      "execution_count": null,
      "metadata": {
        "id": "gWcHjWIwS985"
      },
      "outputs": [],
      "source": [
        "test3 = np.full((28000, 28, 28, 3), 0.0)\n",
        "\n",
        "for i, s in enumerate(test):\n",
        "    test3[i] = cv2.cvtColor(s, cv2.COLOR_GRAY2RGB)"
      ]
    },
    {
      "cell_type": "code",
      "execution_count": null,
      "metadata": {
        "id": "rcAwbduJS985",
        "outputId": "e9348dab-5f7e-43f7-fbb0-a3efd4235cba"
      },
      "outputs": [
        {
          "data": {
            "image/png": "[encoded data removed]",
            "text/plain": [
              "<Figure size 432x288 with 1 Axes>"
            ]
          },
          "metadata": {},
          "output_type": "display_data"
        }
      ],
      "source": [
        "g = plt.imshow(test3[1])"
      ]
    },
    {
      "cell_type": "code",
      "execution_count": null,
      "metadata": {
        "id": "hrxObbcsS985",
        "outputId": "4a79d165-01a0-475c-f47d-677ba0b669be"
      },
      "outputs": [
        {
          "data": {
            "text/plain": [
              "((42000, 28, 28, 3), (28000, 28, 28, 3))"
            ]
          },
          "execution_count": 15,
          "metadata": {},
          "output_type": "execute_result"
        }
      ],
      "source": [
        "X_train3.shape, test3.shape"
      ]
    },
    {
      "cell_type": "code",
      "execution_count": null,
      "metadata": {
        "id": "eL5tPLzdS985",
        "outputId": "1b5cde53-4423-46e2-b934-bdaf2cbdb80b"
      },
      "outputs": [
        {
          "data": {
            "text/plain": [
              "array([[0., 1., 0., ..., 0., 0., 0.],\n",
              "       [1., 0., 0., ..., 0., 0., 0.],\n",
              "       [0., 1., 0., ..., 0., 0., 0.],\n",
              "       ...,\n",
              "       [0., 0., 0., ..., 1., 0., 0.],\n",
              "       [0., 0., 0., ..., 0., 0., 0.],\n",
              "       [0., 0., 0., ..., 0., 0., 1.]], dtype=float32)"
            ]
          },
          "execution_count": 16,
          "metadata": {},
          "output_type": "execute_result"
        }
      ],
      "source": [
        "Y_train = np_utils.to_categorical(Y_train, 10)\n",
        "Y_train"
      ]
    },
    {
      "cell_type": "code",
      "execution_count": null,
      "metadata": {
        "id": "EmFaHXGIS985",
        "outputId": "d6acd318-2079-4e97-f31e-61a757d8ac79"
      },
      "outputs": [
        {
          "name": "stdout",
          "output_type": "stream",
          "text": [
            "WARNING:tensorflow:From /opt/conda/lib/python3.6/site-packages/tensorflow/python/framework/op_def_library.py:263: colocate_with (from tensorflow.python.framework.ops) is deprecated and will be removed in a future version.\n",
            "Instructions for updating:\n",
            "Colocations handled automatically by placer.\n",
            "WARNING:tensorflow:From /opt/conda/lib/python3.6/site-packages/tensorflow/python/framework/function.py:1007: calling Graph.create_op (from tensorflow.python.framework.ops) with compute_shapes is deprecated and will be removed in a future version.\n",
            "Instructions for updating:\n",
            "Shapes are always computed; don't use the compute_shapes as it has no effect.\n",
            "WARNING:tensorflow:From /opt/conda/lib/python3.6/site-packages/efficientnet/layers.py:29: div (from tensorflow.python.ops.math_ops) is deprecated and will be removed in a future version.\n",
            "Instructions for updating:\n",
            "Deprecated in favor of operator or tf.math.divide.\n",
            "Downloading data from https://github.com/qubvel/efficientnet/releases/download/v0.0.1/efficientnet-b3_imagenet_1000_notop.h5\n",
            "43974656/43966704 [==============================] - 2s 0us/step\n"
          ]
        }
      ],
      "source": [
        "model = EfficientNetB3(weights='imagenet', input_shape = (28,28,3), include_top=False)"
      ]
    },
    {
      "cell_type": "code",
      "execution_count": null,
      "metadata": {
        "id": "bBpIyKvBS986"
      },
      "outputs": [],
      "source": [
        "model.trainable = False"
      ]
    },
    {
      "cell_type": "code",
      "execution_count": null,
      "metadata": {
        "id": "DJaBIGwbS986",
        "outputId": "a433b2b2-02c9-4dbd-d9f1-0fce6e7203cb"
      },
      "outputs": [
        {
          "name": "stdout",
          "output_type": "stream",
          "text": [
            "WARNING:tensorflow:From /opt/conda/lib/python3.6/site-packages/keras/backend/tensorflow_backend.py:3445: calling dropout (from tensorflow.python.ops.nn_ops) with keep_prob is deprecated and will be removed in a future version.\n",
            "Instructions for updating:\n",
            "Please use `rate` instead of `keep_prob`. Rate should be set to `rate = 1 - keep_prob`.\n"
          ]
        },
        {
          "name": "stderr",
          "output_type": "stream",
          "text": [
            "/opt/conda/lib/python3.6/site-packages/ipykernel_launcher.py:6: UserWarning: Update your `Model` call to the Keras 2 API: `Model(inputs=Tensor(\"in..., outputs=Tensor(\"de...)`\n",
            "  \n"
          ]
        }
      ],
      "source": [
        "x = model.output\n",
        "x = Flatten()(x)\n",
        "x = Dense(1024, activation=\"relu\")(x)\n",
        "x = Dropout(0.5)(x)\n",
        "predictions = Dense(units = 10, activation=\"softmax\")(x)\n",
        "model_f = Model(input = model.input, output = predictions)\n",
        "model_f.compile(optimizers.rmsprop(lr=0.0001, decay=1e-6),loss='categorical_crossentropy',metrics=['accuracy'])"
      ]
    },
    {
      "cell_type": "code",
      "execution_count": null,
      "metadata": {
        "id": "h7I2ulHeS986",
        "outputId": "17a7442a-ba3a-4c72-b6fd-e59d73d1591d"
      },
      "outputs": [
        {
          "name": "stdout",
          "output_type": "stream",
          "text": [
            "WARNING:tensorflow:From /opt/conda/lib/python3.6/site-packages/tensorflow/python/ops/math_ops.py:3066: to_int32 (from tensorflow.python.ops.math_ops) is deprecated and will be removed in a future version.\n",
            "Instructions for updating:\n",
            "Use tf.cast instead.\n",
            "Train on 37800 samples, validate on 4200 samples\n",
            "Epoch 1/10\n",
            " - 60s - loss: 0.8659 - acc: 0.7171 - val_loss: 0.1877 - val_acc: 0.9414\n",
            "Epoch 2/10\n",
            " - 39s - loss: 0.1788 - acc: 0.9471 - val_loss: 0.0758 - val_acc: 0.9774\n",
            "Epoch 3/10\n",
            " - 38s - loss: 0.0909 - acc: 0.9725 - val_loss: 0.0540 - val_acc: 0.9850\n",
            "Epoch 4/10\n",
            " - 39s - loss: 0.0537 - acc: 0.9844 - val_loss: 0.0486 - val_acc: 0.9862\n",
            "Epoch 5/10\n",
            " - 38s - loss: 0.0408 - acc: 0.9876 - val_loss: 0.0443 - val_acc: 0.9864\n",
            "Epoch 6/10\n",
            " - 38s - loss: 0.0290 - acc: 0.9917 - val_loss: 0.0424 - val_acc: 0.9883\n",
            "Epoch 7/10\n",
            " - 38s - loss: 0.0264 - acc: 0.9920 - val_loss: 0.0465 - val_acc: 0.9871\n",
            "Epoch 8/10\n",
            " - 38s - loss: 0.0180 - acc: 0.9947 - val_loss: 0.0408 - val_acc: 0.9881\n",
            "Epoch 9/10\n",
            " - 38s - loss: 0.0174 - acc: 0.9949 - val_loss: 0.0521 - val_acc: 0.9883\n",
            "Epoch 10/10\n",
            " - 39s - loss: 0.0152 - acc: 0.9958 - val_loss: 0.0492 - val_acc: 0.9879\n",
            "CPU times: user 8min 37s, sys: 1min 48s, total: 10min 25s\n",
            "Wall time: 6min 56s\n"
          ]
        }
      ],
      "source": [
        "%%time\n",
        "# Train model\n",
        "history = model_f.fit(X_train3, Y_train,\n",
        "              epochs=10,\n",
        "              batch_size = 128,\n",
        "              validation_split=0.1,\n",
        "              shuffle=True,\n",
        "              verbose=2)"
      ]
    },
    {
      "cell_type": "code",
      "execution_count": null,
      "metadata": {
        "id": "ov44E6u2S986",
        "outputId": "23584074-8920-4f78-be10-d60bff204df5"
      },
      "outputs": [
        {
          "data": {
            "text/plain": [
              "<matplotlib.axes._subplots.AxesSubplot at 0x7f433d8215c0>"
            ]
          },
          "execution_count": 21,
          "metadata": {},
          "output_type": "execute_result"
        },
        {
          "data": {
            "image/png": "[encoded data removed]",
            "text/plain": [
              "<Figure size 432x288 with 1 Axes>"
            ]
          },
          "metadata": {},
          "output_type": "display_data"
        },
        {
          "data": {
            "image/png": "[encoded data removed]",
            "text/plain": [
              "<Figure size 432x288 with 1 Axes>"
            ]
          },
          "metadata": {},
          "output_type": "display_data"
        }
      ],
      "source": [
        "import json\n",
        "\n",
        "with open('history.json', 'w') as f:\n",
        "    json.dump(history.history, f)\n",
        "\n",
        "history_df = pd.DataFrame(history.history)\n",
        "history_df[['loss', 'val_loss']].plot()\n",
        "history_df[['acc', 'val_acc']].plot()"
      ]
    },
    {
      "cell_type": "code",
      "execution_count": null,
      "metadata": {
        "id": "wPFADJHHS986",
        "outputId": "63e95581-87c2-4967-843d-edd52f4cf5ae"
      },
      "outputs": [
        {
          "name": "stdout",
          "output_type": "stream",
          "text": [
            "CPU times: user 24.1 s, sys: 1.11 s, total: 25.2 s\n",
            "Wall time: 20 s\n"
          ]
        }
      ],
      "source": [
        "%%time\n",
        "# Prediction\n",
        "test_predictions = model_f.predict(test3)"
      ]
    },
    {
      "cell_type": "code",
      "execution_count": null,
      "metadata": {
        "id": "1ITiwVDES986",
        "outputId": "984ea73a-97cd-4487-ace8-ed5db68119fb"
      },
      "outputs": [
        {
          "data": {
            "text/plain": [
              "(28000, 10)"
            ]
          },
          "execution_count": 23,
          "metadata": {},
          "output_type": "execute_result"
        }
      ],
      "source": [
        "test_predictions.shape"
      ]
    },
    {
      "cell_type": "code",
      "execution_count": null,
      "metadata": {
        "id": "bajmHKHHS986",
        "outputId": "6feda2ae-7ff7-4214-e827-401e12c35bfd"
      },
      "outputs": [
        {
          "data": {
            "text/plain": [
              "array([7.2109735e-17, 3.4816974e-16, 1.0000000e+00, 3.1112871e-15,\n",
              "       2.7101435e-15, 2.5857287e-17, 1.1323145e-15, 2.4761285e-15,\n",
              "       4.3088964e-15, 4.8764212e-15], dtype=float32)"
            ]
          },
          "execution_count": 24,
          "metadata": {},
          "output_type": "execute_result"
        }
      ],
      "source": [
        "test_predictions[0]"
      ]
    },
    {
      "cell_type": "code",
      "execution_count": null,
      "metadata": {
        "id": "Tak5ThGmS986"
      },
      "outputs": [],
      "source": [
        "# select the index with the maximum probability\n",
        "results = np.argmax(test_predictions,axis = 1)\n",
        "results = pd.Series(results,name=\"Label\")"
      ]
    },
    {
      "cell_type": "code",
      "execution_count": null,
      "metadata": {
        "id": "WJw0TCrpS986"
      },
      "outputs": [],
      "source": [
        "submission = pd.concat([pd.Series(range(1,28001),name = \"ImageId\"),results],axis = 1)\n",
        "\n",
        "submission.to_csv(\"submission.csv\",index=False)"
      ]
    },
    {
      "cell_type": "code",
      "execution_count": null,
      "metadata": {
        "id": "vky1mmhYS986",
        "outputId": "98406ae4-2545-4242-b5ec-0383946d9ae7"
      },
      "outputs": [
        {
          "data": {
            "text/html": [
              "<div>\n",
              "<style scoped>\n",
              "    .dataframe tbody tr th:only-of-type {\n",
              "        vertical-align: middle;\n",
              "    }\n",
              "\n",
              "    .dataframe tbody tr th {\n",
              "        vertical-align: top;\n",
              "    }\n",
              "\n",
              "    .dataframe thead th {\n",
              "        text-align: right;\n",
              "    }\n",
              "</style>\n",
              "<table border=\"1\" class=\"dataframe\">\n",
              "  <thead>\n",
              "    <tr style=\"text-align: right;\">\n",
              "      <th></th>\n",
              "      <th>ImageId</th>\n",
              "      <th>Label</th>\n",
              "    </tr>\n",
              "  </thead>\n",
              "  <tbody>\n",
              "    <tr>\n",
              "      <th>0</th>\n",
              "      <td>1</td>\n",
              "      <td>2</td>\n",
              "    </tr>\n",
              "    <tr>\n",
              "      <th>1</th>\n",
              "      <td>2</td>\n",
              "      <td>0</td>\n",
              "    </tr>\n",
              "    <tr>\n",
              "      <th>2</th>\n",
              "      <td>3</td>\n",
              "      <td>9</td>\n",
              "    </tr>\n",
              "    <tr>\n",
              "      <th>3</th>\n",
              "      <td>4</td>\n",
              "      <td>0</td>\n",
              "    </tr>\n",
              "    <tr>\n",
              "      <th>4</th>\n",
              "      <td>5</td>\n",
              "      <td>3</td>\n",
              "    </tr>\n",
              "  </tbody>\n",
              "</table>\n",
              "</div>"
            ],
            "text/plain": [
              "   ImageId  Label\n",
              "0        1      2\n",
              "1        2      0\n",
              "2        3      9\n",
              "3        4      0\n",
              "4        5      3"
            ]
          },
          "execution_count": 27,
          "metadata": {},
          "output_type": "execute_result"
        }
      ],
      "source": [
        "submission.head()"
      ]
    },
    {
      "cell_type": "markdown",
      "source": [
        "### **Fashion Mnist**"
      ],
      "metadata": {
        "id": "aKL9NW0LY30H"
      }
    },
    {
      "cell_type": "code",
      "execution_count": null,
      "metadata": {
        "execution": {
          "iopub.execute_input": "2021-10-26T15:04:18.425027Z",
          "iopub.status.busy": "2021-10-26T15:04:18.424413Z",
          "iopub.status.idle": "2021-10-26T15:04:31.160995Z",
          "shell.execute_reply": "2021-10-26T15:04:31.160117Z"
        },
        "papermill": {
          "duration": 12.766224,
          "end_time": "2021-10-26T15:04:31.161185",
          "exception": false,
          "start_time": "2021-10-26T15:04:18.394961",
          "status": "completed"
        },
        "tags": [],
        "id": "8fe6d089",
        "outputId": "eaf0a8d3-3f74-42e8-927f-aac8d118453a"
      },
      "outputs": [
        {
          "name": "stdout",
          "output_type": "stream",
          "text": [
            "\u001b[33mWARNING: Running pip as the 'root' user can result in broken permissions and conflicting behaviour with the system package manager. It is recommended to use a virtual environment instead: https://pip.pypa.io/warnings/venv\u001b[0m\r\n"
          ]
        }
      ],
      "source": [
        "!pip install -q efficientnet_pytorch"
      ]
    },
    {
      "cell_type": "code",
      "execution_count": null,
      "metadata": {
        "_cell_guid": "b1076dfc-b9ad-4769-8c92-a6c4dae69d19",
        "_uuid": "8f2839f25d086af736a60e9eeb907d3b93b6e0e5",
        "execution": {
          "iopub.execute_input": "2021-10-26T15:04:31.263404Z",
          "iopub.status.busy": "2021-10-26T15:04:31.262242Z",
          "iopub.status.idle": "2021-10-26T15:04:35.423289Z",
          "shell.execute_reply": "2021-10-26T15:04:35.423833Z"
        },
        "papermill": {
          "duration": 4.192584,
          "end_time": "2021-10-26T15:04:35.424020",
          "exception": false,
          "start_time": "2021-10-26T15:04:31.231436",
          "status": "completed"
        },
        "tags": [],
        "id": "9e5c93ea"
      },
      "outputs": [],
      "source": [
        "import time\n",
        "import random\n",
        "import datetime\n",
        "import os\n",
        "\n",
        "import numpy as np\n",
        "import pandas as pd\n",
        "from sklearn import model_selection\n",
        "from sklearn.metrics import accuracy_score\n",
        "\n",
        "import torch\n",
        "from torch import nn\n",
        "from torch.utils.data import Dataset, DataLoader\n",
        "import efficientnet_pytorch\n",
        "import cv2\n",
        "import albumentations as A\n",
        "from albumentations.pytorch.transforms import ToTensorV2\n",
        "import matplotlib.pyplot as plt"
      ]
    },
    {
      "cell_type": "code",
      "execution_count": null,
      "metadata": {
        "execution": {
          "iopub.execute_input": "2021-10-26T15:04:35.475251Z",
          "iopub.status.busy": "2021-10-26T15:04:35.474671Z",
          "iopub.status.idle": "2021-10-26T15:04:35.480351Z",
          "shell.execute_reply": "2021-10-26T15:04:35.479824Z"
        },
        "papermill": {
          "duration": 0.034479,
          "end_time": "2021-10-26T15:04:35.480512",
          "exception": false,
          "start_time": "2021-10-26T15:04:35.446033",
          "status": "completed"
        },
        "tags": [],
        "id": "1d7fbb34"
      },
      "outputs": [],
      "source": [
        "def seed_everything(seed):\n",
        "    random.seed(seed)\n",
        "    os.environ['PYTHONHASHSEED'] = str(seed)\n",
        "    np.random.seed(seed)\n",
        "    torch.manual_seed(seed)\n",
        "    torch.cuda.manual_seed(seed)\n",
        "    torch.backends.cudnn.deterministic = True\n",
        "    torch.backends.cudnn.benchmark = True\n",
        "\n",
        "seed_everything(2021)"
      ]
    },
    {
      "cell_type": "code",
      "execution_count": null,
      "metadata": {
        "execution": {
          "iopub.execute_input": "2021-10-26T15:04:35.532723Z",
          "iopub.status.busy": "2021-10-26T15:04:35.527798Z",
          "iopub.status.idle": "2021-10-26T15:04:35.535531Z",
          "shell.execute_reply": "2021-10-26T15:04:35.535008Z"
        },
        "papermill": {
          "duration": 0.032868,
          "end_time": "2021-10-26T15:04:35.535673",
          "exception": false,
          "start_time": "2021-10-26T15:04:35.502805",
          "status": "completed"
        },
        "tags": [],
        "id": "c5584ceb"
      },
      "outputs": [],
      "source": [
        "class DataLoaderConfig:\n",
        "    batch_size = 64\n",
        "    num_workers = 8\n",
        "\n",
        "\n",
        "class TrainConfig:\n",
        "    criterion = nn.CrossEntropyLoss\n",
        "    n_epochs = 2\n",
        "    lr = 0.001\n",
        "    scheduler = torch.optim.lr_scheduler.ReduceLROnPlateau\n",
        "    scheduler_params = dict(\n",
        "        mode='min',\n",
        "        factor=0.5,\n",
        "        patience=1,\n",
        "        verbose=False,\n",
        "        threshold=0.0001,\n",
        "        threshold_mode='abs',\n",
        "        cooldown=0,\n",
        "        min_lr=1e-8,\n",
        "        eps=1e-08\n",
        "    )\n",
        "\n",
        "\n",
        "DEVICE = torch.device('cuda') if torch.cuda.is_available() else torch.device('cpu')"
      ]
    },
    {
      "cell_type": "code",
      "execution_count": null,
      "metadata": {
        "_cell_guid": "79c7e3d0-c299-4dcb-8224-4455121ee9b0",
        "_uuid": "d629ff2d2480ee46fbb7e2d37f6b5fab8052498a",
        "execution": {
          "iopub.execute_input": "2021-10-26T15:04:35.635200Z",
          "iopub.status.busy": "2021-10-26T15:04:35.633211Z",
          "iopub.status.idle": "2021-10-26T15:04:41.958624Z",
          "shell.execute_reply": "2021-10-26T15:04:41.959188Z"
        },
        "papermill": {
          "duration": 6.353088,
          "end_time": "2021-10-26T15:04:41.959526",
          "exception": false,
          "start_time": "2021-10-26T15:04:35.606438",
          "status": "completed"
        },
        "tags": [],
        "id": "1436488e",
        "outputId": "51fc3b34-e6b8-46d9-e6a7-4700e5f6728d"
      },
      "outputs": [
        {
          "name": "stdout",
          "output_type": "stream",
          "text": [
            "(60000, 785)\n"
          ]
        },
        {
          "data": {
            "text/html": [
              "<div>\n",
              "<style scoped>\n",
              "    .dataframe tbody tr th:only-of-type {\n",
              "        vertical-align: middle;\n",
              "    }\n",
              "\n",
              "    .dataframe tbody tr th {\n",
              "        vertical-align: top;\n",
              "    }\n",
              "\n",
              "    .dataframe thead th {\n",
              "        text-align: right;\n",
              "    }\n",
              "</style>\n",
              "<table border=\"1\" class=\"dataframe\">\n",
              "  <thead>\n",
              "    <tr style=\"text-align: right;\">\n",
              "      <th></th>\n",
              "      <th>label</th>\n",
              "      <th>pixel1</th>\n",
              "      <th>pixel2</th>\n",
              "      <th>pixel3</th>\n",
              "      <th>pixel4</th>\n",
              "      <th>pixel5</th>\n",
              "      <th>pixel6</th>\n",
              "      <th>pixel7</th>\n",
              "      <th>pixel8</th>\n",
              "      <th>pixel9</th>\n",
              "      <th>...</th>\n",
              "      <th>pixel775</th>\n",
              "      <th>pixel776</th>\n",
              "      <th>pixel777</th>\n",
              "      <th>pixel778</th>\n",
              "      <th>pixel779</th>\n",
              "      <th>pixel780</th>\n",
              "      <th>pixel781</th>\n",
              "      <th>pixel782</th>\n",
              "      <th>pixel783</th>\n",
              "      <th>pixel784</th>\n",
              "    </tr>\n",
              "  </thead>\n",
              "  <tbody>\n",
              "    <tr>\n",
              "      <th>0</th>\n",
              "      <td>2</td>\n",
              "      <td>0</td>\n",
              "      <td>0</td>\n",
              "      <td>0</td>\n",
              "      <td>0</td>\n",
              "      <td>0</td>\n",
              "      <td>0</td>\n",
              "      <td>0</td>\n",
              "      <td>0</td>\n",
              "      <td>0</td>\n",
              "      <td>...</td>\n",
              "      <td>0</td>\n",
              "      <td>0</td>\n",
              "      <td>0</td>\n",
              "      <td>0</td>\n",
              "      <td>0</td>\n",
              "      <td>0</td>\n",
              "      <td>0</td>\n",
              "      <td>0</td>\n",
              "      <td>0</td>\n",
              "      <td>0</td>\n",
              "    </tr>\n",
              "    <tr>\n",
              "      <th>1</th>\n",
              "      <td>9</td>\n",
              "      <td>0</td>\n",
              "      <td>0</td>\n",
              "      <td>0</td>\n",
              "      <td>0</td>\n",
              "      <td>0</td>\n",
              "      <td>0</td>\n",
              "      <td>0</td>\n",
              "      <td>0</td>\n",
              "      <td>0</td>\n",
              "      <td>...</td>\n",
              "      <td>0</td>\n",
              "      <td>0</td>\n",
              "      <td>0</td>\n",
              "      <td>0</td>\n",
              "      <td>0</td>\n",
              "      <td>0</td>\n",
              "      <td>0</td>\n",
              "      <td>0</td>\n",
              "      <td>0</td>\n",
              "      <td>0</td>\n",
              "    </tr>\n",
              "    <tr>\n",
              "      <th>2</th>\n",
              "      <td>6</td>\n",
              "      <td>0</td>\n",
              "      <td>0</td>\n",
              "      <td>0</td>\n",
              "      <td>0</td>\n",
              "      <td>0</td>\n",
              "      <td>0</td>\n",
              "      <td>0</td>\n",
              "      <td>5</td>\n",
              "      <td>0</td>\n",
              "      <td>...</td>\n",
              "      <td>0</td>\n",
              "      <td>0</td>\n",
              "      <td>0</td>\n",
              "      <td>30</td>\n",
              "      <td>43</td>\n",
              "      <td>0</td>\n",
              "      <td>0</td>\n",
              "      <td>0</td>\n",
              "      <td>0</td>\n",
              "      <td>0</td>\n",
              "    </tr>\n",
              "    <tr>\n",
              "      <th>3</th>\n",
              "      <td>0</td>\n",
              "      <td>0</td>\n",
              "      <td>0</td>\n",
              "      <td>0</td>\n",
              "      <td>1</td>\n",
              "      <td>2</td>\n",
              "      <td>0</td>\n",
              "      <td>0</td>\n",
              "      <td>0</td>\n",
              "      <td>0</td>\n",
              "      <td>...</td>\n",
              "      <td>3</td>\n",
              "      <td>0</td>\n",
              "      <td>0</td>\n",
              "      <td>0</td>\n",
              "      <td>0</td>\n",
              "      <td>1</td>\n",
              "      <td>0</td>\n",
              "      <td>0</td>\n",
              "      <td>0</td>\n",
              "      <td>0</td>\n",
              "    </tr>\n",
              "    <tr>\n",
              "      <th>4</th>\n",
              "      <td>3</td>\n",
              "      <td>0</td>\n",
              "      <td>0</td>\n",
              "      <td>0</td>\n",
              "      <td>0</td>\n",
              "      <td>0</td>\n",
              "      <td>0</td>\n",
              "      <td>0</td>\n",
              "      <td>0</td>\n",
              "      <td>0</td>\n",
              "      <td>...</td>\n",
              "      <td>0</td>\n",
              "      <td>0</td>\n",
              "      <td>0</td>\n",
              "      <td>0</td>\n",
              "      <td>0</td>\n",
              "      <td>0</td>\n",
              "      <td>0</td>\n",
              "      <td>0</td>\n",
              "      <td>0</td>\n",
              "      <td>0</td>\n",
              "    </tr>\n",
              "  </tbody>\n",
              "</table>\n",
              "<p>5 rows × 785 columns</p>\n",
              "</div>"
            ],
            "text/plain": [
              "   label  pixel1  pixel2  pixel3  pixel4  pixel5  pixel6  pixel7  pixel8  \\\n",
              "0      2       0       0       0       0       0       0       0       0   \n",
              "1      9       0       0       0       0       0       0       0       0   \n",
              "2      6       0       0       0       0       0       0       0       5   \n",
              "3      0       0       0       0       1       2       0       0       0   \n",
              "4      3       0       0       0       0       0       0       0       0   \n",
              "\n",
              "   pixel9  ...  pixel775  pixel776  pixel777  pixel778  pixel779  pixel780  \\\n",
              "0       0  ...         0         0         0         0         0         0   \n",
              "1       0  ...         0         0         0         0         0         0   \n",
              "2       0  ...         0         0         0        30        43         0   \n",
              "3       0  ...         3         0         0         0         0         1   \n",
              "4       0  ...         0         0         0         0         0         0   \n",
              "\n",
              "   pixel781  pixel782  pixel783  pixel784  \n",
              "0         0         0         0         0  \n",
              "1         0         0         0         0  \n",
              "2         0         0         0         0  \n",
              "3         0         0         0         0  \n",
              "4         0         0         0         0  \n",
              "\n",
              "[5 rows x 785 columns]"
            ]
          },
          "execution_count": 5,
          "metadata": {},
          "output_type": "execute_result"
        }
      ],
      "source": [
        "df = pd.read_csv('../input/fashionmnist/fashion-mnist_train.csv')\n",
        "print(df.shape)\n",
        "df.head()"
      ]
    },
    {
      "cell_type": "code",
      "execution_count": null,
      "metadata": {
        "execution": {
          "iopub.execute_input": "2021-10-26T15:04:42.013186Z",
          "iopub.status.busy": "2021-10-26T15:04:42.012549Z",
          "iopub.status.idle": "2021-10-26T15:04:42.163929Z",
          "shell.execute_reply": "2021-10-26T15:04:42.164404Z"
        },
        "papermill": {
          "duration": 0.179621,
          "end_time": "2021-10-26T15:04:42.164613",
          "exception": false,
          "start_time": "2021-10-26T15:04:41.984992",
          "status": "completed"
        },
        "tags": [],
        "id": "31d9011b"
      },
      "outputs": [],
      "source": [
        "y = df['label'].values\n",
        "X = df.drop(['label'], axis=1).values"
      ]
    },
    {
      "cell_type": "code",
      "execution_count": null,
      "metadata": {
        "execution": {
          "iopub.execute_input": "2021-10-26T15:04:42.217569Z",
          "iopub.status.busy": "2021-10-26T15:04:42.215221Z",
          "iopub.status.idle": "2021-10-26T15:04:42.817247Z",
          "shell.execute_reply": "2021-10-26T15:04:42.817745Z"
        },
        "papermill": {
          "duration": 0.629167,
          "end_time": "2021-10-26T15:04:42.817918",
          "exception": false,
          "start_time": "2021-10-26T15:04:42.188751",
          "status": "completed"
        },
        "tags": [],
        "id": "ab9aee60",
        "outputId": "7038e10d-ba2e-4f8f-dc26-05d3e0eb16f5"
      },
      "outputs": [
        {
          "data": {
            "text/plain": [
              "((48000, 784), (12000, 784), (48000,), (12000,))"
            ]
          },
          "execution_count": 7,
          "metadata": {},
          "output_type": "execute_result"
        }
      ],
      "source": [
        "X_train, X_valid, y_train, y_valid = model_selection.train_test_split(X, y, test_size=0.2)\n",
        "X_train.shape, X_valid.shape, y_train.shape, y_valid.shape"
      ]
    },
    {
      "cell_type": "code",
      "execution_count": null,
      "metadata": {
        "execution": {
          "iopub.execute_input": "2021-10-26T15:04:42.918856Z",
          "iopub.status.busy": "2021-10-26T15:04:42.918161Z",
          "iopub.status.idle": "2021-10-26T15:04:42.925331Z",
          "shell.execute_reply": "2021-10-26T15:04:42.925968Z"
        },
        "papermill": {
          "duration": 0.035848,
          "end_time": "2021-10-26T15:04:42.926124",
          "exception": false,
          "start_time": "2021-10-26T15:04:42.890276",
          "status": "completed"
        },
        "tags": [],
        "id": "a1939bb1"
      },
      "outputs": [],
      "source": [
        "class DatasetRetriever(Dataset):\n",
        "    def __init__(self, X, y, transforms=None):\n",
        "        super().__init__()\n",
        "        self.X = X.reshape(-1,28,28).astype(np.float32)\n",
        "        self.y = y\n",
        "        self.transforms = transforms\n",
        "\n",
        "    def __getitem__(self, index):\n",
        "        image, target = self.X[index], self.y[index]\n",
        "        image = np.stack([image] * 3, axis=-1)\n",
        "        image /= 255.\n",
        "        if self.transforms:\n",
        "            image = self.transforms(image=image)['image']\n",
        "\n",
        "        return image, torch.tensor(target, dtype=torch.long)\n",
        "\n",
        "    def __len__(self):\n",
        "        return self.y.shape[0]"
      ]
    },
    {
      "cell_type": "code",
      "execution_count": null,
      "metadata": {
        "execution": {
          "iopub.execute_input": "2021-10-26T15:04:42.978178Z",
          "iopub.status.busy": "2021-10-26T15:04:42.977547Z",
          "iopub.status.idle": "2021-10-26T15:04:42.984276Z",
          "shell.execute_reply": "2021-10-26T15:04:42.984841Z"
        },
        "papermill": {
          "duration": 0.035309,
          "end_time": "2021-10-26T15:04:42.985011",
          "exception": false,
          "start_time": "2021-10-26T15:04:42.949702",
          "status": "completed"
        },
        "tags": [],
        "id": "d429b59a"
      },
      "outputs": [],
      "source": [
        "def get_train_transforms():\n",
        "    return A.Compose(\n",
        "        [\n",
        "            A.Rotate(limit=10, border_mode=cv2.BORDER_REPLICATE, p=0.5),\n",
        "            A.Cutout(num_holes=8, max_h_size=2, max_w_size=2, fill_value=0, p=0.5),\n",
        "            A.Cutout(num_holes=8, max_h_size=1, max_w_size=1, fill_value=1, p=0.5),\n",
        "            A.Resize(28,28, p=1.),\n",
        "            ToTensorV2(p=1.0),\n",
        "        ],\n",
        "        p=1.0)\n",
        "\n",
        "def get_valid_transforms():\n",
        "    return A.Compose(\n",
        "        [\n",
        "            A.Resize(28,28, p=1.),\n",
        "            ToTensorV2(p=1.0),\n",
        "        ],\n",
        "        p=1.0\n",
        "    )"
      ]
    },
    {
      "cell_type": "code",
      "execution_count": null,
      "metadata": {
        "execution": {
          "iopub.execute_input": "2021-10-26T15:04:43.040553Z",
          "iopub.status.busy": "2021-10-26T15:04:43.039874Z",
          "iopub.status.idle": "2021-10-26T15:04:43.145954Z",
          "shell.execute_reply": "2021-10-26T15:04:43.146426Z"
        },
        "papermill": {
          "duration": 0.134958,
          "end_time": "2021-10-26T15:04:43.146625",
          "exception": false,
          "start_time": "2021-10-26T15:04:43.011667",
          "status": "completed"
        },
        "tags": [],
        "id": "6b48de82",
        "outputId": "aeaf1447-a06c-41e4-f365-f980be2a493e"
      },
      "outputs": [
        {
          "name": "stderr",
          "output_type": "stream",
          "text": [
            "/opt/conda/lib/python3.7/site-packages/albumentations/augmentations/transforms.py:691: FutureWarning: This class has been deprecated. Please use CoarseDropout\n",
            "  FutureWarning,\n"
          ]
        }
      ],
      "source": [
        "train_dataset = DatasetRetriever(\n",
        "    X = X_train,\n",
        "    y = y_train,\n",
        "    transforms=get_train_transforms(),\n",
        ")\n",
        "\n",
        "valid_dataset = DatasetRetriever(\n",
        "    X = X_valid,\n",
        "    y = y_valid,\n",
        "    transforms=get_valid_transforms(),\n",
        ")"
      ]
    },
    {
      "cell_type": "code",
      "execution_count": null,
      "metadata": {
        "execution": {
          "iopub.execute_input": "2021-10-26T15:04:43.214911Z",
          "iopub.status.busy": "2021-10-26T15:04:43.214217Z",
          "iopub.status.idle": "2021-10-26T15:04:43.999722Z",
          "shell.execute_reply": "2021-10-26T15:04:44.000244Z"
        },
        "papermill": {
          "duration": 0.828509,
          "end_time": "2021-10-26T15:04:44.000411",
          "exception": false,
          "start_time": "2021-10-26T15:04:43.171902",
          "status": "completed"
        },
        "tags": [],
        "id": "d035e401",
        "outputId": "16b29808-abe0-4337-a0b6-8bdb20a84be2"
      },
      "outputs": [
        {
          "data": {
            "image/png": "[encoded data removed]",
            "text/plain": [
              "<Figure size 864x864 with 16 Axes>"
            ]
          },
          "metadata": {},
          "output_type": "display_data"
        }
      ],
      "source": [
        "plt.figure(figsize=(12,12))\n",
        "\n",
        "for i in range(16):\n",
        "    image, target = train_dataset[random.randint(0, len(train_dataset))]\n",
        "    numpy_image = image.permute(1,2,0).cpu().numpy()\n",
        "\n",
        "    plt.subplot(4,4, i + 1)\n",
        "    plt.xticks([])\n",
        "    plt.yticks([])\n",
        "    plt.title(target.cpu().numpy(), fontsize=10)\n",
        "    plt.imshow(numpy_image);"
      ]
    },
    {
      "cell_type": "code",
      "execution_count": null,
      "metadata": {
        "execution": {
          "iopub.execute_input": "2021-10-26T15:04:44.060357Z",
          "iopub.status.busy": "2021-10-26T15:04:44.059712Z",
          "iopub.status.idle": "2021-10-26T15:04:44.066485Z",
          "shell.execute_reply": "2021-10-26T15:04:44.067088Z"
        },
        "papermill": {
          "duration": 0.039891,
          "end_time": "2021-10-26T15:04:44.067268",
          "exception": false,
          "start_time": "2021-10-26T15:04:44.027377",
          "status": "completed"
        },
        "tags": [],
        "id": "80df6440",
        "outputId": "9c7dc853-573f-4797-9357-cb4030bce05e"
      },
      "outputs": [
        {
          "name": "stderr",
          "output_type": "stream",
          "text": [
            "/opt/conda/lib/python3.7/site-packages/torch/utils/data/dataloader.py:481: UserWarning: This DataLoader will create 8 worker processes in total. Our suggested max number of worker in current system is 4, which is smaller than what this DataLoader is going to create. Please be aware that excessive worker creation might get DataLoader running slow or even freeze, lower the worker number to avoid potential slowness/freeze if necessary.\n",
            "  cpuset_checked))\n"
          ]
        }
      ],
      "source": [
        "train_loader = DataLoader(\n",
        "    train_dataset,\n",
        "    batch_size=DataLoaderConfig.batch_size,\n",
        "    shuffle=True,\n",
        "    num_workers=DataLoaderConfig.num_workers,\n",
        ")\n",
        "\n",
        "valid_loader = DataLoader(\n",
        "    valid_dataset,\n",
        "    batch_size=DataLoaderConfig.batch_size,\n",
        "    shuffle=False,\n",
        "    num_workers=DataLoaderConfig.num_workers,\n",
        ")"
      ]
    },
    {
      "cell_type": "markdown",
      "metadata": {
        "papermill": {
          "duration": 0.026777,
          "end_time": "2021-10-26T15:04:44.121973",
          "exception": false,
          "start_time": "2021-10-26T15:04:44.095196",
          "status": "completed"
        },
        "tags": [],
        "id": "c41d992e"
      },
      "source": [
        "## Build Model"
      ]
    },
    {
      "cell_type": "code",
      "execution_count": null,
      "metadata": {
        "execution": {
          "iopub.execute_input": "2021-10-26T15:04:44.185947Z",
          "iopub.status.busy": "2021-10-26T15:04:44.179179Z",
          "iopub.status.idle": "2021-10-26T15:04:44.188667Z",
          "shell.execute_reply": "2021-10-26T15:04:44.188065Z"
        },
        "papermill": {
          "duration": 0.039635,
          "end_time": "2021-10-26T15:04:44.188810",
          "exception": false,
          "start_time": "2021-10-26T15:04:44.149175",
          "status": "completed"
        },
        "tags": [],
        "id": "f8455af0"
      },
      "outputs": [],
      "source": [
        "class LossMeter:\n",
        "    def __init__(self):\n",
        "        self.avg = 0\n",
        "        self.sum = 0\n",
        "        self.count = 0\n",
        "\n",
        "    def update(self, val, n=1):\n",
        "        self.sum += val * n\n",
        "        self.count += n\n",
        "        self.avg = self.sum / self.count\n",
        "\n",
        "class AccMeter:\n",
        "    def __init__(self):\n",
        "        self.true_count = 0\n",
        "        self.all_count = 0\n",
        "        self.avg = 0\n",
        "\n",
        "    def update(self, y_true, y_pred):\n",
        "        y_true = y_true.cpu().numpy().astype(int)\n",
        "        y_pred = y_pred.cpu().numpy().argmax(axis=1).astype(int)\n",
        "        self.true_count += (y_true == y_pred).sum()\n",
        "        self.all_count += y_true.shape[0]\n",
        "        self.avg = self.true_count / self.all_count"
      ]
    },
    {
      "cell_type": "code",
      "execution_count": null,
      "metadata": {
        "execution": {
          "iopub.execute_input": "2021-10-26T15:04:44.272419Z",
          "iopub.status.busy": "2021-10-26T15:04:44.267880Z",
          "iopub.status.idle": "2021-10-26T15:04:44.275594Z",
          "shell.execute_reply": "2021-10-26T15:04:44.274892Z"
        },
        "papermill": {
          "duration": 0.059535,
          "end_time": "2021-10-26T15:04:44.275735",
          "exception": false,
          "start_time": "2021-10-26T15:04:44.216200",
          "status": "completed"
        },
        "tags": [],
        "id": "ef9bb56b"
      },
      "outputs": [],
      "source": [
        "class Fitter:\n",
        "    def __init__(\n",
        "        self, model, device, criterion, n_epochs,\n",
        "        lr, sheduler=None, scheduler_params=None\n",
        "    ):\n",
        "        self.epoch = 0\n",
        "        self.n_epochs = n_epochs\n",
        "        self.base_dir = './'\n",
        "        self.log_path = f'{self.base_dir}/log.txt'\n",
        "        self.best_summary_loss = np.inf\n",
        "\n",
        "        self.model = model\n",
        "        self.device = device\n",
        "\n",
        "        self.optimizer = torch.optim.Adam(self.model.parameters(), lr=lr)\n",
        "\n",
        "        if sheduler:\n",
        "            self.scheduler = sheduler(self.optimizer, **scheduler_params)\n",
        "\n",
        "        self.criterion = criterion().to(self.device)\n",
        "\n",
        "        self.log(f'Fitter prepared. Device is {self.device}')\n",
        "\n",
        "    def fit(self, train_loader, valid_loader):\n",
        "        for e in range(self.n_epochs):\n",
        "            current_lr = self.optimizer.param_groups[0]['lr']\n",
        "            self.log(f'\\n{datetime.datetime.utcnow().isoformat()}\\nLR: {current_lr}')\n",
        "\n",
        "            t = int(time.time())\n",
        "            summary_loss, final_scores = self.train_one_epoch(train_loader)\n",
        "            self.log(\n",
        "                f'[RESULT]: Train. Epoch: {self.epoch}, ' + \\\n",
        "                f'summary_loss: {summary_loss.avg:.5f}, ' + \\\n",
        "                f'final_score: {final_scores.avg:.5f}, ' + \\\n",
        "                f'time: {int(time.time()) - t} s'\n",
        "            )\n",
        "\n",
        "            t = int(time.time())\n",
        "            summary_loss, final_scores = self.validation(valid_loader)\n",
        "            self.log(\n",
        "                f'[RESULT]: Valid. Epoch: {self.epoch}, ' + \\\n",
        "                f'summary_loss: {summary_loss.avg:.5f}, ' + \\\n",
        "                f'final_score: {final_scores.avg:.5f}, ' + \\\n",
        "                f'time: {int(time.time()) - t} s'\n",
        "            )\n",
        "\n",
        "            f_best = 0\n",
        "            if summary_loss.avg < self.best_summary_loss:\n",
        "                self.best_summary_loss = summary_loss.avg\n",
        "                f_best = 1\n",
        "\n",
        "            self.scheduler.step(metrics=summary_loss.avg)\n",
        "            self.save(f'{self.base_dir}/last-checkpoint.bin')\n",
        "\n",
        "            if f_best:\n",
        "                self.save(f'{self.base_dir}/best-checkpoint.bin')\n",
        "                print('New best checkpoint')\n",
        "\n",
        "            self.epoch += 1\n",
        "\n",
        "    def validation(self, val_loader):\n",
        "        self.model.eval()\n",
        "        summary_loss = LossMeter()\n",
        "        final_scores = AccMeter()\n",
        "\n",
        "        t = int(time.time())\n",
        "        for step, (images, targets) in enumerate(val_loader):\n",
        "            print(\n",
        "                f'Valid Step {step}/{len(val_loader)}, ' + \\\n",
        "                f'summary_loss: {summary_loss.avg:.5f}, ' + \\\n",
        "                f'final_score: {final_scores.avg:.5f}, ' + \\\n",
        "                f'time: {int(time.time()) - t} s', end='\\r'\n",
        "            )\n",
        "\n",
        "            with torch.no_grad():\n",
        "                targets = targets.to(self.device)\n",
        "                images = images.to(self.device)\n",
        "                batch_size = images.shape[0]\n",
        "\n",
        "                outputs = self.model(images)\n",
        "                loss = self.criterion(outputs, targets)\n",
        "\n",
        "                final_scores.update(targets, outputs)\n",
        "                summary_loss.update(loss.detach().item(), batch_size)\n",
        "\n",
        "        return summary_loss, final_scores\n",
        "\n",
        "    def train_one_epoch(self, train_loader):\n",
        "        self.model.train()\n",
        "        summary_loss = LossMeter()\n",
        "        final_scores = AccMeter()\n",
        "\n",
        "        t = int(time.time())\n",
        "        for step, (images, targets) in enumerate(train_loader):\n",
        "            print(\n",
        "                f'Train Step {step}/{len(train_loader)}, ' + \\\n",
        "                f'summary_loss: {summary_loss.avg:.5f}, ' + \\\n",
        "                f'final_score: {final_scores.avg:.5f}, ' + \\\n",
        "                f'time: {int(time.time()) - t} s', end='\\r'\n",
        "            )\n",
        "\n",
        "            targets = targets.to(self.device)\n",
        "            images = images.to(self.device)\n",
        "            batch_size = images.shape[0]\n",
        "\n",
        "            self.optimizer.zero_grad()\n",
        "            outputs = self.model(images)\n",
        "\n",
        "            loss = self.criterion(outputs, targets)\n",
        "            loss.backward()\n",
        "\n",
        "            final_scores.update(targets, outputs.detach())\n",
        "            summary_loss.update(loss.detach().item(), batch_size)\n",
        "\n",
        "            self.optimizer.step()\n",
        "\n",
        "        return summary_loss, final_scores\n",
        "\n",
        "    def save(self, path):\n",
        "        self.model.eval()\n",
        "        torch.save({\n",
        "            'model_state_dict': self.model.state_dict(),\n",
        "            'optimizer_state_dict': self.optimizer.state_dict(),\n",
        "            'scheduler_state_dict': self.scheduler.state_dict(),\n",
        "            'best_summary_loss': self.best_summary_loss,\n",
        "            'epoch': self.epoch,\n",
        "        }, path)\n",
        "\n",
        "    def load(self, path):\n",
        "        checkpoint = torch.load(path)\n",
        "        self.model.load_state_dict(checkpoint['model_state_dict'])\n",
        "        self.optimizer.load_state_dict(checkpoint['optimizer_state_dict'])\n",
        "        self.scheduler.load_state_dict(checkpoint['scheduler_state_dict'])\n",
        "        self.best_summary_loss = checkpoint['best_summary_loss']\n",
        "        self.epoch = checkpoint['epoch'] + 1\n",
        "\n",
        "    def log(self, message):\n",
        "        print(message)\n",
        "        with open(self.log_path, 'a+') as logger:\n",
        "            logger.write(f'{message}\\n')"
      ]
    },
    {
      "cell_type": "code",
      "execution_count": null,
      "metadata": {
        "execution": {
          "iopub.execute_input": "2021-10-26T15:04:44.343169Z",
          "iopub.status.busy": "2021-10-26T15:04:44.342536Z",
          "iopub.status.idle": "2021-10-26T15:04:50.595621Z",
          "shell.execute_reply": "2021-10-26T15:04:50.595044Z"
        },
        "papermill": {
          "duration": 6.292229,
          "end_time": "2021-10-26T15:04:50.595760",
          "exception": false,
          "start_time": "2021-10-26T15:04:44.303531",
          "status": "completed"
        },
        "tags": [],
        "id": "11c55992",
        "outputId": "47443d0b-7035-40c7-dbe3-9eb7ddee8f59",
        "colab": {
          "referenced_widgets": [
            "2bbfd503942f4d29a0bbef21f5047200"
          ]
        }
      },
      "outputs": [
        {
          "name": "stderr",
          "output_type": "stream",
          "text": [
            "Downloading: \"https://github.com/lukemelas/EfficientNet-PyTorch/releases/download/1.0/efficientnet-b7-dcc49843.pth\" to /root/.cache/torch/hub/checkpoints/efficientnet-b7-dcc49843.pth\n"
          ]
        },
        {
          "data": {
            "application/vnd.jupyter.widget-view+json": {
              "model_id": "2bbfd503942f4d29a0bbef21f5047200",
              "version_major": 2,
              "version_minor": 0
            },
            "text/plain": [
              "  0%|          | 0.00/254M [00:00<?, ?B/s]"
            ]
          },
          "metadata": {},
          "output_type": "display_data"
        },
        {
          "name": "stdout",
          "output_type": "stream",
          "text": [
            "Loaded pretrained weights for efficientnet-b7\n"
          ]
        }
      ],
      "source": [
        "def get_net():\n",
        "    net = efficientnet_pytorch.EfficientNet.from_pretrained('efficientnet-b7')\n",
        "    net._fc = nn.Linear(in_features=2560, out_features=10, bias=True)\n",
        "    return net\n",
        "\n",
        "net = get_net().to(DEVICE)"
      ]
    },
    {
      "cell_type": "code",
      "execution_count": null,
      "metadata": {
        "execution": {
          "iopub.execute_input": "2021-10-26T15:04:50.658764Z",
          "iopub.status.busy": "2021-10-26T15:04:50.657649Z",
          "iopub.status.idle": "2021-10-26T15:04:50.669832Z",
          "shell.execute_reply": "2021-10-26T15:04:50.669222Z"
        },
        "papermill": {
          "duration": 0.044805,
          "end_time": "2021-10-26T15:04:50.669993",
          "exception": false,
          "start_time": "2021-10-26T15:04:50.625188",
          "status": "completed"
        },
        "tags": [],
        "id": "e25095f1",
        "outputId": "eeedcdaf-e170-4d8a-bcf2-b5b16ad33c15"
      },
      "outputs": [
        {
          "name": "stdout",
          "output_type": "stream",
          "text": [
            "Fitter prepared. Device is cpu\n"
          ]
        }
      ],
      "source": [
        "fitter = Fitter(\n",
        "    model=net,\n",
        "    device=DEVICE,\n",
        "    criterion=TrainConfig.criterion,\n",
        "    n_epochs=TrainConfig.n_epochs,\n",
        "    lr=TrainConfig.lr,\n",
        "    sheduler=TrainConfig.scheduler,\n",
        "    scheduler_params=TrainConfig.scheduler_params\n",
        ")"
      ]
    },
    {
      "cell_type": "code",
      "execution_count": null,
      "metadata": {
        "execution": {
          "iopub.execute_input": "2021-10-26T15:04:50.731194Z",
          "iopub.status.busy": "2021-10-26T15:04:50.730452Z",
          "iopub.status.idle": "2021-10-26T17:02:02.055807Z",
          "shell.execute_reply": "2021-10-26T17:02:02.057727Z"
        },
        "papermill": {
          "duration": 7031.358782,
          "end_time": "2021-10-26T17:02:02.058072",
          "exception": false,
          "start_time": "2021-10-26T15:04:50.699290",
          "status": "completed"
        },
        "tags": [],
        "id": "8ee5efb8",
        "outputId": "eefe2f6e-d513-46e5-db01-b6df4aac4e98"
      },
      "outputs": [
        {
          "name": "stdout",
          "output_type": "stream",
          "text": [
            "\n",
            "2021-10-26T15:04:50.730741\n",
            "LR: 0.001\n",
            "[RESULT]: Train. Epoch: 0, summary_loss: 0.52024, final_score: 0.82525, time: 3329 s\n",
            "[RESULT]: Valid. Epoch: 0, summary_loss: 0.33245, final_score: 0.88933, time: 158 s\n",
            "New best checkpoint\n",
            "\n",
            "2021-10-26T16:03:00.518133\n",
            "LR: 0.001\n",
            "[RESULT]: Train. Epoch: 1, summary_loss: 0.35073, final_score: 0.88256, time: 3374 s\n",
            "[RESULT]: Valid. Epoch: 1, summary_loss: 0.25645, final_score: 0.91083, time: 160 s\n",
            "New best checkpoint\n"
          ]
        }
      ],
      "source": [
        "fitter.fit(train_loader, valid_loader)"
      ]
    },
    {
      "cell_type": "markdown",
      "metadata": {
        "papermill": {
          "duration": 2.533536,
          "end_time": "2021-10-26T17:02:05.195836",
          "exception": false,
          "start_time": "2021-10-26T17:02:02.662300",
          "status": "completed"
        },
        "tags": [],
        "id": "d79e4f1c"
      },
      "source": [
        "## Inference Model"
      ]
    },
    {
      "cell_type": "code",
      "execution_count": null,
      "metadata": {
        "execution": {
          "iopub.execute_input": "2021-10-26T17:02:06.455674Z",
          "iopub.status.busy": "2021-10-26T17:02:06.454914Z",
          "iopub.status.idle": "2021-10-26T17:02:07.456982Z",
          "shell.execute_reply": "2021-10-26T17:02:07.457778Z"
        },
        "papermill": {
          "duration": 1.661709,
          "end_time": "2021-10-26T17:02:07.457973",
          "exception": false,
          "start_time": "2021-10-26T17:02:05.796264",
          "status": "completed"
        },
        "tags": [],
        "id": "631f3e28"
      },
      "outputs": [],
      "source": [
        "checkpoint = torch.load('../working/best-checkpoint.bin')\n",
        "net.load_state_dict(checkpoint['model_state_dict']);\n",
        "net.eval();"
      ]
    },
    {
      "cell_type": "code",
      "execution_count": null,
      "metadata": {
        "execution": {
          "iopub.execute_input": "2021-10-26T17:02:08.978839Z",
          "iopub.status.busy": "2021-10-26T17:02:08.977741Z",
          "iopub.status.idle": "2021-10-26T17:02:10.197793Z",
          "shell.execute_reply": "2021-10-26T17:02:10.198298Z"
        },
        "papermill": {
          "duration": 2.066117,
          "end_time": "2021-10-26T17:02:10.198461",
          "exception": false,
          "start_time": "2021-10-26T17:02:08.132344",
          "status": "completed"
        },
        "tags": [],
        "id": "f3feff27",
        "outputId": "3c40efe0-516b-48c2-fbdf-1815346b1d7e"
      },
      "outputs": [
        {
          "name": "stdout",
          "output_type": "stream",
          "text": [
            "(10000, 785)\n"
          ]
        },
        {
          "data": {
            "text/html": [
              "<div>\n",
              "<style scoped>\n",
              "    .dataframe tbody tr th:only-of-type {\n",
              "        vertical-align: middle;\n",
              "    }\n",
              "\n",
              "    .dataframe tbody tr th {\n",
              "        vertical-align: top;\n",
              "    }\n",
              "\n",
              "    .dataframe thead th {\n",
              "        text-align: right;\n",
              "    }\n",
              "</style>\n",
              "<table border=\"1\" class=\"dataframe\">\n",
              "  <thead>\n",
              "    <tr style=\"text-align: right;\">\n",
              "      <th></th>\n",
              "      <th>label</th>\n",
              "      <th>pixel1</th>\n",
              "      <th>pixel2</th>\n",
              "      <th>pixel3</th>\n",
              "      <th>pixel4</th>\n",
              "      <th>pixel5</th>\n",
              "      <th>pixel6</th>\n",
              "      <th>pixel7</th>\n",
              "      <th>pixel8</th>\n",
              "      <th>pixel9</th>\n",
              "      <th>...</th>\n",
              "      <th>pixel775</th>\n",
              "      <th>pixel776</th>\n",
              "      <th>pixel777</th>\n",
              "      <th>pixel778</th>\n",
              "      <th>pixel779</th>\n",
              "      <th>pixel780</th>\n",
              "      <th>pixel781</th>\n",
              "      <th>pixel782</th>\n",
              "      <th>pixel783</th>\n",
              "      <th>pixel784</th>\n",
              "    </tr>\n",
              "  </thead>\n",
              "  <tbody>\n",
              "    <tr>\n",
              "      <th>0</th>\n",
              "      <td>0</td>\n",
              "      <td>0</td>\n",
              "      <td>0</td>\n",
              "      <td>0</td>\n",
              "      <td>0</td>\n",
              "      <td>0</td>\n",
              "      <td>0</td>\n",
              "      <td>0</td>\n",
              "      <td>9</td>\n",
              "      <td>8</td>\n",
              "      <td>...</td>\n",
              "      <td>103</td>\n",
              "      <td>87</td>\n",
              "      <td>56</td>\n",
              "      <td>0</td>\n",
              "      <td>0</td>\n",
              "      <td>0</td>\n",
              "      <td>0</td>\n",
              "      <td>0</td>\n",
              "      <td>0</td>\n",
              "      <td>0</td>\n",
              "    </tr>\n",
              "    <tr>\n",
              "      <th>1</th>\n",
              "      <td>1</td>\n",
              "      <td>0</td>\n",
              "      <td>0</td>\n",
              "      <td>0</td>\n",
              "      <td>0</td>\n",
              "      <td>0</td>\n",
              "      <td>0</td>\n",
              "      <td>0</td>\n",
              "      <td>0</td>\n",
              "      <td>0</td>\n",
              "      <td>...</td>\n",
              "      <td>34</td>\n",
              "      <td>0</td>\n",
              "      <td>0</td>\n",
              "      <td>0</td>\n",
              "      <td>0</td>\n",
              "      <td>0</td>\n",
              "      <td>0</td>\n",
              "      <td>0</td>\n",
              "      <td>0</td>\n",
              "      <td>0</td>\n",
              "    </tr>\n",
              "    <tr>\n",
              "      <th>2</th>\n",
              "      <td>2</td>\n",
              "      <td>0</td>\n",
              "      <td>0</td>\n",
              "      <td>0</td>\n",
              "      <td>0</td>\n",
              "      <td>0</td>\n",
              "      <td>0</td>\n",
              "      <td>14</td>\n",
              "      <td>53</td>\n",
              "      <td>99</td>\n",
              "      <td>...</td>\n",
              "      <td>0</td>\n",
              "      <td>0</td>\n",
              "      <td>0</td>\n",
              "      <td>0</td>\n",
              "      <td>63</td>\n",
              "      <td>53</td>\n",
              "      <td>31</td>\n",
              "      <td>0</td>\n",
              "      <td>0</td>\n",
              "      <td>0</td>\n",
              "    </tr>\n",
              "    <tr>\n",
              "      <th>3</th>\n",
              "      <td>2</td>\n",
              "      <td>0</td>\n",
              "      <td>0</td>\n",
              "      <td>0</td>\n",
              "      <td>0</td>\n",
              "      <td>0</td>\n",
              "      <td>0</td>\n",
              "      <td>0</td>\n",
              "      <td>0</td>\n",
              "      <td>0</td>\n",
              "      <td>...</td>\n",
              "      <td>137</td>\n",
              "      <td>126</td>\n",
              "      <td>140</td>\n",
              "      <td>0</td>\n",
              "      <td>133</td>\n",
              "      <td>224</td>\n",
              "      <td>222</td>\n",
              "      <td>56</td>\n",
              "      <td>0</td>\n",
              "      <td>0</td>\n",
              "    </tr>\n",
              "    <tr>\n",
              "      <th>4</th>\n",
              "      <td>3</td>\n",
              "      <td>0</td>\n",
              "      <td>0</td>\n",
              "      <td>0</td>\n",
              "      <td>0</td>\n",
              "      <td>0</td>\n",
              "      <td>0</td>\n",
              "      <td>0</td>\n",
              "      <td>0</td>\n",
              "      <td>0</td>\n",
              "      <td>...</td>\n",
              "      <td>0</td>\n",
              "      <td>0</td>\n",
              "      <td>0</td>\n",
              "      <td>0</td>\n",
              "      <td>0</td>\n",
              "      <td>0</td>\n",
              "      <td>0</td>\n",
              "      <td>0</td>\n",
              "      <td>0</td>\n",
              "      <td>0</td>\n",
              "    </tr>\n",
              "  </tbody>\n",
              "</table>\n",
              "<p>5 rows × 785 columns</p>\n",
              "</div>"
            ],
            "text/plain": [
              "   label  pixel1  pixel2  pixel3  pixel4  pixel5  pixel6  pixel7  pixel8  \\\n",
              "0      0       0       0       0       0       0       0       0       9   \n",
              "1      1       0       0       0       0       0       0       0       0   \n",
              "2      2       0       0       0       0       0       0      14      53   \n",
              "3      2       0       0       0       0       0       0       0       0   \n",
              "4      3       0       0       0       0       0       0       0       0   \n",
              "\n",
              "   pixel9  ...  pixel775  pixel776  pixel777  pixel778  pixel779  pixel780  \\\n",
              "0       8  ...       103        87        56         0         0         0   \n",
              "1       0  ...        34         0         0         0         0         0   \n",
              "2      99  ...         0         0         0         0        63        53   \n",
              "3       0  ...       137       126       140         0       133       224   \n",
              "4       0  ...         0         0         0         0         0         0   \n",
              "\n",
              "   pixel781  pixel782  pixel783  pixel784  \n",
              "0         0         0         0         0  \n",
              "1         0         0         0         0  \n",
              "2        31         0         0         0  \n",
              "3       222        56         0         0  \n",
              "4         0         0         0         0  \n",
              "\n",
              "[5 rows x 785 columns]"
            ]
          },
          "execution_count": 19,
          "metadata": {},
          "output_type": "execute_result"
        }
      ],
      "source": [
        "dfT = pd.read_csv('../input/fashionmnist/fashion-mnist_test.csv')\n",
        "print(dfT.shape)\n",
        "dfT.head()"
      ]
    },
    {
      "cell_type": "code",
      "execution_count": null,
      "metadata": {
        "execution": {
          "iopub.execute_input": "2021-10-26T17:02:11.742800Z",
          "iopub.status.busy": "2021-10-26T17:02:11.741903Z",
          "iopub.status.idle": "2021-10-26T17:02:11.743882Z",
          "shell.execute_reply": "2021-10-26T17:02:11.744678Z"
        },
        "papermill": {
          "duration": 0.812289,
          "end_time": "2021-10-26T17:02:11.744889",
          "exception": false,
          "start_time": "2021-10-26T17:02:10.932600",
          "status": "completed"
        },
        "tags": [],
        "id": "ff903662"
      },
      "outputs": [],
      "source": [
        "X = dfT.iloc[:,1:].values\n",
        "y = dfT.iloc[:,0].values"
      ]
    },
    {
      "cell_type": "code",
      "execution_count": null,
      "metadata": {
        "execution": {
          "iopub.execute_input": "2021-10-26T17:02:13.354099Z",
          "iopub.status.busy": "2021-10-26T17:02:13.353179Z",
          "iopub.status.idle": "2021-10-26T17:02:13.361914Z",
          "shell.execute_reply": "2021-10-26T17:02:13.362675Z"
        },
        "papermill": {
          "duration": 0.893261,
          "end_time": "2021-10-26T17:02:13.362909",
          "exception": false,
          "start_time": "2021-10-26T17:02:12.469648",
          "status": "completed"
        },
        "tags": [],
        "id": "9b29274e"
      },
      "outputs": [],
      "source": [
        "class DatasetRetriever(Dataset):\n",
        "    def __init__(self, X, transforms=None):\n",
        "        super().__init__()\n",
        "        self.X = X.reshape(-1, 28,28).astype(np.float32)\n",
        "        self.transforms = transforms\n",
        "\n",
        "    def __getitem__(self, index):\n",
        "        image = self.X[index]\n",
        "        image = np.stack([image] * 3, axis=-1)\n",
        "        image /= 255.\n",
        "        if self.transforms:\n",
        "            image = self.transforms(image=image)['image']\n",
        "\n",
        "        return image\n",
        "\n",
        "    def __len__(self):\n",
        "        return self.X.shape[0]"
      ]
    },
    {
      "cell_type": "code",
      "execution_count": null,
      "metadata": {
        "execution": {
          "iopub.execute_input": "2021-10-26T17:02:14.906113Z",
          "iopub.status.busy": "2021-10-26T17:02:14.904159Z",
          "iopub.status.idle": "2021-10-26T17:02:14.928835Z",
          "shell.execute_reply": "2021-10-26T17:02:14.928154Z"
        },
        "papermill": {
          "duration": 0.659303,
          "end_time": "2021-10-26T17:02:14.928999",
          "exception": false,
          "start_time": "2021-10-26T17:02:14.269696",
          "status": "completed"
        },
        "tags": [],
        "id": "695eda27"
      },
      "outputs": [],
      "source": [
        "test_dataset = DatasetRetriever(\n",
        "    X = X,\n",
        "    transforms=get_valid_transforms(),\n",
        ")"
      ]
    },
    {
      "cell_type": "code",
      "execution_count": null,
      "metadata": {
        "execution": {
          "iopub.execute_input": "2021-10-26T17:02:16.130305Z",
          "iopub.status.busy": "2021-10-26T17:02:16.129608Z",
          "iopub.status.idle": "2021-10-26T17:02:16.132232Z",
          "shell.execute_reply": "2021-10-26T17:02:16.132707Z"
        },
        "papermill": {
          "duration": 0.611181,
          "end_time": "2021-10-26T17:02:16.132876",
          "exception": false,
          "start_time": "2021-10-26T17:02:15.521695",
          "status": "completed"
        },
        "tags": [],
        "id": "6800caad",
        "outputId": "d9363af0-00ce-4324-d0b3-92d002e9422d"
      },
      "outputs": [
        {
          "name": "stderr",
          "output_type": "stream",
          "text": [
            "/opt/conda/lib/python3.7/site-packages/torch/utils/data/dataloader.py:481: UserWarning: This DataLoader will create 8 worker processes in total. Our suggested max number of worker in current system is 4, which is smaller than what this DataLoader is going to create. Please be aware that excessive worker creation might get DataLoader running slow or even freeze, lower the worker number to avoid potential slowness/freeze if necessary.\n",
            "  cpuset_checked))\n"
          ]
        }
      ],
      "source": [
        "test_loader = DataLoader(\n",
        "    test_dataset,\n",
        "    batch_size=DataLoaderConfig.batch_size,\n",
        "    shuffle=False,\n",
        "    num_workers=DataLoaderConfig.num_workers\n",
        ")"
      ]
    },
    {
      "cell_type": "code",
      "execution_count": null,
      "metadata": {
        "execution": {
          "iopub.execute_input": "2021-10-26T17:02:17.361308Z",
          "iopub.status.busy": "2021-10-26T17:02:17.360509Z",
          "iopub.status.idle": "2021-10-26T17:04:48.398028Z",
          "shell.execute_reply": "2021-10-26T17:04:48.398586Z"
        },
        "papermill": {
          "duration": 151.673576,
          "end_time": "2021-10-26T17:04:48.398804",
          "exception": false,
          "start_time": "2021-10-26T17:02:16.725228",
          "status": "completed"
        },
        "tags": [],
        "id": "16ebea97",
        "outputId": "6851dbeb-38ca-4172-c3fb-bbb5379350ae"
      },
      "outputs": [
        {
          "name": "stdout",
          "output_type": "stream",
          "text": [
            "156\r"
          ]
        }
      ],
      "source": [
        "result = []\n",
        "for step, images in enumerate(test_loader):\n",
        "    print(step, end='\\r')\n",
        "    y_pred = net(images.to(DEVICE)).detach().cpu().numpy().argmax(axis=1).astype(int)\n",
        "    result.extend(y_pred)"
      ]
    },
    {
      "cell_type": "code",
      "execution_count": null,
      "metadata": {
        "execution": {
          "iopub.execute_input": "2021-10-26T17:04:49.693489Z",
          "iopub.status.busy": "2021-10-26T17:04:49.692409Z",
          "iopub.status.idle": "2021-10-26T17:04:50.834881Z",
          "shell.execute_reply": "2021-10-26T17:04:50.835374Z"
        },
        "papermill": {
          "duration": 1.793723,
          "end_time": "2021-10-26T17:04:50.835566",
          "exception": false,
          "start_time": "2021-10-26T17:04:49.041843",
          "status": "completed"
        },
        "tags": [],
        "id": "950e9f04",
        "outputId": "ccb7e004-1230-4c7e-cd4b-b9c72639f657"
      },
      "outputs": [
        {
          "data": {
            "image/png": "[encoded data removed]",
            "text/plain": [
              "<Figure size 864x864 with 16 Axes>"
            ]
          },
          "metadata": {},
          "output_type": "display_data"
        }
      ],
      "source": [
        "plt.figure(figsize=(12,12))\n",
        "\n",
        "for i in range(16):\n",
        "    image = test_dataset[i]\n",
        "    numpy_image = image.permute(1,2,0).cpu().numpy()\n",
        "\n",
        "    plt.subplot(4,4, i + 1)\n",
        "    plt.xticks([])\n",
        "    plt.yticks([])\n",
        "    plt.title(f'Predict: {result[i]}', fontsize=10)\n",
        "    plt.imshow(numpy_image);"
      ]
    },
    {
      "cell_type": "code",
      "execution_count": null,
      "metadata": {
        "execution": {
          "iopub.execute_input": "2021-10-26T17:04:52.134793Z",
          "iopub.status.busy": "2021-10-26T17:04:52.133777Z",
          "iopub.status.idle": "2021-10-26T17:04:52.145829Z",
          "shell.execute_reply": "2021-10-26T17:04:52.146300Z"
        },
        "papermill": {
          "duration": 0.66445,
          "end_time": "2021-10-26T17:04:52.146488",
          "exception": false,
          "start_time": "2021-10-26T17:04:51.482038",
          "status": "completed"
        },
        "tags": [],
        "id": "950797b8",
        "outputId": "69d9e723-9a12-412e-896e-eadf637c7d3f"
      },
      "outputs": [
        {
          "name": "stdout",
          "output_type": "stream",
          "text": [
            "0.9088\n"
          ]
        }
      ],
      "source": [
        "ANS=y\n",
        "PRED=result\n",
        "accuracy=accuracy_score(ANS,PRED)\n",
        "print(accuracy)"
      ]
    },
    {
      "cell_type": "markdown",
      "source": [
        "CIFAR-10"
      ],
      "metadata": {
        "id": "AibVE5g9ZR79"
      }
    },
    {
      "cell_type": "code",
      "execution_count": null,
      "metadata": {
        "_cell_guid": "b1076dfc-b9ad-4769-8c92-a6c4dae69d19",
        "_uuid": "8f2839f25d086af736a60e9eeb907d3b93b6e0e5",
        "execution": {
          "iopub.execute_input": "2022-12-23T15:38:53.405096Z",
          "iopub.status.busy": "2022-12-23T15:38:53.404586Z",
          "iopub.status.idle": "2022-12-23T15:38:53.416460Z",
          "shell.execute_reply": "2022-12-23T15:38:53.415647Z"
        },
        "papermill": {
          "duration": 0.018775,
          "end_time": "2022-12-23T15:38:53.418453",
          "exception": false,
          "start_time": "2022-12-23T15:38:53.399678",
          "status": "completed"
        },
        "tags": [],
        "id": "e6b5f65c"
      },
      "outputs": [],
      "source": [
        "# This Python 3 environment comes with many helpful analytics libraries installed\n",
        "# It is defined by the kaggle/python Docker image: https://github.com/kaggle/docker-python\n",
        "# For example, here's several helpful packages to load\n",
        "\n",
        "import numpy as np # linear algebra\n",
        "import pandas as pd # data processing, CSV file I/O (e.g. pd.read_csv)\n",
        "\n",
        "# Input data files are available in the read-only \"../input/\" directory\n",
        "# For example, running this (by clicking run or pressing Shift+Enter) will list all files under the input directory\n",
        "\n",
        "import os\n",
        "for dirname, _, filenames in os.walk('/kaggle/input'):\n",
        "    for filename in filenames:\n",
        "        print(os.path.join(dirname, filename))\n",
        "\n",
        "# You can write up to 20GB to the current directory (/kaggle/working/) that gets preserved as output when you create a version using \"Save & Run All\"\n",
        "# You can also write temporary files to /kaggle/temp/, but they won't be saved outside of the current session"
      ]
    },
    {
      "cell_type": "code",
      "execution_count": null,
      "metadata": {
        "execution": {
          "iopub.execute_input": "2022-12-23T15:38:53.426936Z",
          "iopub.status.busy": "2022-12-23T15:38:53.426136Z",
          "iopub.status.idle": "2022-12-23T15:41:37.984107Z",
          "shell.execute_reply": "2022-12-23T15:41:37.982911Z"
        },
        "papermill": {
          "duration": 164.56479,
          "end_time": "2022-12-23T15:41:37.986752",
          "exception": false,
          "start_time": "2022-12-23T15:38:53.421962",
          "status": "completed"
        },
        "tags": [],
        "id": "2be39e91",
        "outputId": "dc1341ff-efd8-4bc9-ffed-63630cdec1c0"
      },
      "outputs": [
        {
          "name": "stdout",
          "output_type": "stream",
          "text": [
            "Collecting tensorflow==2.8.3\r\n",
            "  Downloading tensorflow-2.8.3-cp37-cp37m-manylinux2010_x86_64.whl (497.9 MB)\r\n",
            "\u001b[2K     \u001b[90m━━━━━━━━━━━━━━━━━━━━━━━━━━━━━━━━━━━━━━━\u001b[0m \u001b[32m497.9/497.9 MB\u001b[0m \u001b[31m2.2 MB/s\u001b[0m eta \u001b[36m0:00:00\u001b[0m\r\n",
            "\u001b[?25hRequirement already satisfied: google-pasta>=0.1.1 in /opt/conda/lib/python3.7/site-packages (from tensorflow==2.8.3) (0.2.0)\r\n",
            "Requirement already satisfied: typing-extensions>=3.6.6 in /opt/conda/lib/python3.7/site-packages (from tensorflow==2.8.3) (4.1.1)\r\n",
            "Requirement already satisfied: protobuf<3.20,>=3.9.2 in /opt/conda/lib/python3.7/site-packages (from tensorflow==2.8.3) (3.19.4)\r\n",
            "Collecting tensorflow-io-gcs-filesystem>=0.23.1\r\n",
            "  Downloading tensorflow_io_gcs_filesystem-0.29.0-cp37-cp37m-manylinux_2_12_x86_64.manylinux2010_x86_64.whl (2.4 MB)\r\n",
            "\u001b[2K     \u001b[90m━━━━━━━━━━━━━━━━━━━━━━━━━━━━━━━━━━━━━━━━\u001b[0m \u001b[32m2.4/2.4 MB\u001b[0m \u001b[31m42.7 MB/s\u001b[0m eta \u001b[36m0:00:00\u001b[0m\r\n",
            "\u001b[?25hRequirement already satisfied: flatbuffers>=1.12 in /opt/conda/lib/python3.7/site-packages (from tensorflow==2.8.3) (1.12)\r\n",
            "Requirement already satisfied: six>=1.12.0 in /opt/conda/lib/python3.7/site-packages (from tensorflow==2.8.3) (1.15.0)\r\n",
            "Collecting keras<2.9,>=2.8.0rc0\r\n",
            "  Downloading keras-2.8.0-py2.py3-none-any.whl (1.4 MB)\r\n",
            "\u001b[2K     \u001b[90m━━━━━━━━━━━━━━━━━━━━━━━━━━━━━━━━━━━━━━━━\u001b[0m \u001b[32m1.4/1.4 MB\u001b[0m \u001b[31m42.7 MB/s\u001b[0m eta \u001b[36m0:00:00\u001b[0m\r\n",
            "\u001b[?25hCollecting tensorflow-estimator<2.9,>=2.8\r\n",
            "  Downloading tensorflow_estimator-2.8.0-py2.py3-none-any.whl (462 kB)\r\n",
            "\u001b[2K     \u001b[90m━━━━━━━━━━━━━━━━━━━━━━━━━━━━━━━━━━━━━━\u001b[0m \u001b[32m462.3/462.3 kB\u001b[0m \u001b[31m34.3 MB/s\u001b[0m eta \u001b[36m0:00:00\u001b[0m\r\n",
            "\u001b[?25hCollecting tensorboard<2.9,>=2.8\r\n",
            "  Downloading tensorboard-2.8.0-py3-none-any.whl (5.8 MB)\r\n",
            "\u001b[2K     \u001b[90m━━━━━━━━━━━━━━━━━━━━━━━━━━━━━━━━━━━━━━━━\u001b[0m \u001b[32m5.8/5.8 MB\u001b[0m \u001b[31m21.4 MB/s\u001b[0m eta \u001b[36m0:00:00\u001b[0m\r\n",
            "\u001b[?25hRequirement already satisfied: numpy>=1.20 in /opt/conda/lib/python3.7/site-packages (from tensorflow==2.8.3) (1.21.6)\r\n",
            "Requirement already satisfied: opt-einsum>=2.3.2 in /opt/conda/lib/python3.7/site-packages (from tensorflow==2.8.3) (3.3.0)\r\n",
            "Requirement already satisfied: grpcio<2.0,>=1.24.3 in /opt/conda/lib/python3.7/site-packages (from tensorflow==2.8.3) (1.43.0)\r\n",
            "Requirement already satisfied: keras-preprocessing>=1.1.1 in /opt/conda/lib/python3.7/site-packages (from tensorflow==2.8.3) (1.1.2)\r\n",
            "Requirement already satisfied: gast>=0.2.1 in /opt/conda/lib/python3.7/site-packages (from tensorflow==2.8.3) (0.4.0)\r\n",
            "Requirement already satisfied: h5py>=2.9.0 in /opt/conda/lib/python3.7/site-packages (from tensorflow==2.8.3) (3.7.0)\r\n",
            "Requirement already satisfied: astunparse>=1.6.0 in /opt/conda/lib/python3.7/site-packages (from tensorflow==2.8.3) (1.6.3)\r\n",
            "Requirement already satisfied: wrapt>=1.11.0 in /opt/conda/lib/python3.7/site-packages (from tensorflow==2.8.3) (1.12.1)\r\n",
            "Requirement already satisfied: termcolor>=1.1.0 in /opt/conda/lib/python3.7/site-packages (from tensorflow==2.8.3) (1.1.0)\r\n",
            "Requirement already satisfied: absl-py>=0.4.0 in /opt/conda/lib/python3.7/site-packages (from tensorflow==2.8.3) (0.15.0)\r\n",
            "Collecting libclang>=9.0.1\r\n",
            "  Downloading libclang-14.0.6-py2.py3-none-manylinux2010_x86_64.whl (14.1 MB)\r\n",
            "\u001b[2K     \u001b[90m━━━━━━━━━━━━━━━━━━━━━━━━━━━━━━━━━━━━━━━━\u001b[0m \u001b[32m14.1/14.1 MB\u001b[0m \u001b[31m15.1 MB/s\u001b[0m eta \u001b[36m0:00:00\u001b[0m\r\n",
            "\u001b[?25hRequirement already satisfied: setuptools in /opt/conda/lib/python3.7/site-packages (from tensorflow==2.8.3) (59.8.0)\r\n",
            "Requirement already satisfied: wheel<1.0,>=0.23.0 in /opt/conda/lib/python3.7/site-packages (from astunparse>=1.6.0->tensorflow==2.8.3) (0.37.1)\r\n",
            "Requirement already satisfied: requests<3,>=2.21.0 in /opt/conda/lib/python3.7/site-packages (from tensorboard<2.9,>=2.8->tensorflow==2.8.3) (2.28.1)\r\n",
            "Requirement already satisfied: tensorboard-plugin-wit>=1.6.0 in /opt/conda/lib/python3.7/site-packages (from tensorboard<2.9,>=2.8->tensorflow==2.8.3) (1.8.1)\r\n",
            "Requirement already satisfied: markdown>=2.6.8 in /opt/conda/lib/python3.7/site-packages (from tensorboard<2.9,>=2.8->tensorflow==2.8.3) (3.3.7)\r\n",
            "Requirement already satisfied: google-auth<3,>=1.6.3 in /opt/conda/lib/python3.7/site-packages (from tensorboard<2.9,>=2.8->tensorflow==2.8.3) (1.35.0)\r\n",
            "Requirement already satisfied: google-auth-oauthlib<0.5,>=0.4.1 in /opt/conda/lib/python3.7/site-packages (from tensorboard<2.9,>=2.8->tensorflow==2.8.3) (0.4.6)\r\n",
            "Requirement already satisfied: werkzeug>=0.11.15 in /opt/conda/lib/python3.7/site-packages (from tensorboard<2.9,>=2.8->tensorflow==2.8.3) (2.2.2)\r\n",
            "Requirement already satisfied: tensorboard-data-server<0.7.0,>=0.6.0 in /opt/conda/lib/python3.7/site-packages (from tensorboard<2.9,>=2.8->tensorflow==2.8.3) (0.6.1)\r\n",
            "Requirement already satisfied: pyasn1-modules>=0.2.1 in /opt/conda/lib/python3.7/site-packages (from google-auth<3,>=1.6.3->tensorboard<2.9,>=2.8->tensorflow==2.8.3) (0.2.7)\r\n",
            "Requirement already satisfied: rsa<5,>=3.1.4 in /opt/conda/lib/python3.7/site-packages (from google-auth<3,>=1.6.3->tensorboard<2.9,>=2.8->tensorflow==2.8.3) (4.8)\r\n",
            "Requirement already satisfied: cachetools<5.0,>=2.0.0 in /opt/conda/lib/python3.7/site-packages (from google-auth<3,>=1.6.3->tensorboard<2.9,>=2.8->tensorflow==2.8.3) (4.2.4)\r\n",
            "Requirement already satisfied: requests-oauthlib>=0.7.0 in /opt/conda/lib/python3.7/site-packages (from google-auth-oauthlib<0.5,>=0.4.1->tensorboard<2.9,>=2.8->tensorflow==2.8.3) (1.3.1)\r\n",
            "Requirement already satisfied: importlib-metadata>=4.4 in /opt/conda/lib/python3.7/site-packages (from markdown>=2.6.8->tensorboard<2.9,>=2.8->tensorflow==2.8.3) (4.13.0)\r\n",
            "Requirement already satisfied: idna<4,>=2.5 in /opt/conda/lib/python3.7/site-packages (from requests<3,>=2.21.0->tensorboard<2.9,>=2.8->tensorflow==2.8.3) (3.3)\r\n",
            "Requirement already satisfied: certifi>=2017.4.17 in /opt/conda/lib/python3.7/site-packages (from requests<3,>=2.21.0->tensorboard<2.9,>=2.8->tensorflow==2.8.3) (2022.9.24)\r\n",
            "Requirement already satisfied: charset-normalizer<3,>=2 in /opt/conda/lib/python3.7/site-packages (from requests<3,>=2.21.0->tensorboard<2.9,>=2.8->tensorflow==2.8.3) (2.1.0)\r\n",
            "Requirement already satisfied: urllib3<1.27,>=1.21.1 in /opt/conda/lib/python3.7/site-packages (from requests<3,>=2.21.0->tensorboard<2.9,>=2.8->tensorflow==2.8.3) (1.26.12)\r\n",
            "Requirement already satisfied: MarkupSafe>=2.1.1 in /opt/conda/lib/python3.7/site-packages (from werkzeug>=0.11.15->tensorboard<2.9,>=2.8->tensorflow==2.8.3) (2.1.1)\r\n",
            "Requirement already satisfied: zipp>=0.5 in /opt/conda/lib/python3.7/site-packages (from importlib-metadata>=4.4->markdown>=2.6.8->tensorboard<2.9,>=2.8->tensorflow==2.8.3) (3.8.0)\r\n",
            "Requirement already satisfied: pyasn1<0.5.0,>=0.4.6 in /opt/conda/lib/python3.7/site-packages (from pyasn1-modules>=0.2.1->google-auth<3,>=1.6.3->tensorboard<2.9,>=2.8->tensorflow==2.8.3) (0.4.8)\r\n",
            "Requirement already satisfied: oauthlib>=3.0.0 in /opt/conda/lib/python3.7/site-packages (from requests-oauthlib>=0.7.0->google-auth-oauthlib<0.5,>=0.4.1->tensorboard<2.9,>=2.8->tensorflow==2.8.3) (3.2.0)\r\n",
            "Installing collected packages: tensorflow-estimator, libclang, keras, tensorflow-io-gcs-filesystem, tensorboard, tensorflow\r\n",
            "  Attempting uninstall: tensorflow-estimator\r\n",
            "    Found existing installation: tensorflow-estimator 2.6.0\r\n",
            "    Uninstalling tensorflow-estimator-2.6.0:\r\n",
            "      Successfully uninstalled tensorflow-estimator-2.6.0\r\n",
            "  Attempting uninstall: keras\r\n",
            "    Found existing installation: keras 2.6.0\r\n",
            "    Uninstalling keras-2.6.0:\r\n",
            "      Successfully uninstalled keras-2.6.0\r\n",
            "  Attempting uninstall: tensorboard\r\n",
            "    Found existing installation: tensorboard 2.10.1\r\n",
            "    Uninstalling tensorboard-2.10.1:\r\n",
            "      Successfully uninstalled tensorboard-2.10.1\r\n",
            "  Attempting uninstall: tensorflow\r\n",
            "    Found existing installation: tensorflow 2.6.4\r\n",
            "    Uninstalling tensorflow-2.6.4:\r\n",
            "      Successfully uninstalled tensorflow-2.6.4\r\n",
            "\u001b[31mERROR: pip's dependency resolver does not currently take into account all the packages that are installed. This behaviour is the source of the following dependency conflicts.\r\n",
            "tfx-bsl 1.9.0 requires tensorflow!=2.0.*,!=2.1.*,!=2.2.*,!=2.3.*,!=2.4.*,!=2.5.*,!=2.6.*,!=2.7.*,!=2.8.*,<3,>=1.15.5, but you have tensorflow 2.8.3 which is incompatible.\r\n",
            "tensorflow-transform 1.9.0 requires tensorflow!=2.0.*,!=2.1.*,!=2.2.*,!=2.3.*,!=2.4.*,!=2.5.*,!=2.6.*,!=2.7.*,!=2.8.*,<2.10,>=1.15.5, but you have tensorflow 2.8.3 which is incompatible.\r\n",
            "tensorflow-serving-api 2.9.0 requires tensorflow<3,>=2.9.0, but you have tensorflow 2.8.3 which is incompatible.\r\n",
            "tensorflow-io 0.21.0 requires tensorflow<2.7.0,>=2.6.0, but you have tensorflow 2.8.3 which is incompatible.\r\n",
            "tensorflow-io 0.21.0 requires tensorflow-io-gcs-filesystem==0.21.0, but you have tensorflow-io-gcs-filesystem 0.29.0 which is incompatible.\r\n",
            "pytorch-lightning 1.7.7 requires tensorboard>=2.9.1, but you have tensorboard 2.8.0 which is incompatible.\u001b[0m\u001b[31m\r\n",
            "\u001b[0mSuccessfully installed keras-2.8.0 libclang-14.0.6 tensorboard-2.8.0 tensorflow-2.8.3 tensorflow-estimator-2.8.0 tensorflow-io-gcs-filesystem-0.29.0\r\n",
            "\u001b[33mWARNING: Running pip as the 'root' user can result in broken permissions and conflicting behaviour with the system package manager. It is recommended to use a virtual environment instead: https://pip.pypa.io/warnings/venv\u001b[0m\u001b[33m\r\n",
            "\r\n",
            "\r\n",
            "\r\n",
            "The following packages will be REMOVED:\r\n",
            "  libcudnn8-dev\r\n",
            "The following held packages will be changed:\r\n",
            "  libcudnn8\r\n",
            "The following packages will be upgraded:\r\n",
            "  libcudnn8\r\n",
            "1 upgraded, 0 newly installed, 1 to remove and 91 not upgraded.\r\n",
            "Need to get 430 MB of archives.\r\n",
            "After this operation, 2506 MB disk space will be freed.\r\n",
            "Get:1 https://developer.download.nvidia.com/compute/cuda/repos/ubuntu2004/x86_64  libcudnn8 8.1.0.77-1+cuda11.2 [430 MB]\r\n",
            "Fetched 430 MB in 24s (18.2 MB/s)\r\n",
            "\n",
            "(Reading database ... 108827 files and directories currently installed.)\r\n",
            "Removing libcudnn8-dev (8.0.5.39-1+cuda11.0) ...\r\n",
            "\u001b7\u001b[24;0f\u001b[42m\u001b[30mProgress: [  0%]\u001b[49m\u001b[39m [..........................................................] \u001b8\u001b7\u001b[24;0f\u001b[42m\u001b[30mProgress: [ 14%]\u001b[49m\u001b[39m [########..................................................] \u001b8update-alternatives: removing manually selected alternative - switching libcudnn to auto mode\r\n",
            "(Reading database ... 108805 files and directories currently installed.)\r\n",
            "Preparing to unpack .../libcudnn8_8.1.0.77-1+cuda11.2_amd64.deb ...\r\n",
            "\u001b7\u001b[24;0f\u001b[42m\u001b[30mProgress: [ 43%]\u001b[49m\u001b[39m [########################..................................] \u001b8Unpacking libcudnn8 (8.1.0.77-1+cuda11.2) over (8.0.5.39-1+cuda11.0) ...\r\n",
            "\u001b7\u001b[24;0f\u001b[42m\u001b[30mProgress: [ 57%]\u001b[49m\u001b[39m [#################################.........................] \u001b8Setting up libcudnn8 (8.1.0.77-1+cuda11.2) ...\r\n",
            "\u001b7\u001b[24;0f\u001b[42m\u001b[30mProgress: [ 71%]\u001b[49m\u001b[39m [#########################################.................] \u001b8\u001b7\u001b[24;0f\u001b[42m\u001b[30mProgress: [ 86%]\u001b[49m\u001b[39m [#################################################.........] \u001b8\r\n",
            "\u001b7\u001b[0;24r\u001b8\u001b[1A\u001b[J"
          ]
        }
      ],
      "source": [
        "# to use efficientnet v2 in keras.applications, upgrade tensorflow to ver 2.8\n",
        "!pip install -U tensorflow==2.8.3\n",
        "!apt install --yes --allow-change-held-packages libcudnn8=8.1.0.77-1+cuda11.2"
      ]
    },
    {
      "cell_type": "code",
      "execution_count": null,
      "metadata": {
        "execution": {
          "iopub.execute_input": "2022-12-23T15:41:38.080165Z",
          "iopub.status.busy": "2022-12-23T15:41:38.079812Z",
          "iopub.status.idle": "2022-12-23T15:41:42.024825Z",
          "shell.execute_reply": "2022-12-23T15:41:42.023820Z"
        },
        "papermill": {
          "duration": 3.994698,
          "end_time": "2022-12-23T15:41:42.027265",
          "exception": false,
          "start_time": "2022-12-23T15:41:38.032567",
          "status": "completed"
        },
        "tags": [],
        "id": "a8025f85"
      },
      "outputs": [],
      "source": [
        "import tensorflow as tf\n",
        "from tensorflow.keras.models import Sequential, Model\n",
        "from tensorflow.keras.layers import Dense, GlobalAveragePooling2D, BatchNormalization, Flatten, Dropout, Activation, Input\n",
        "from tensorflow.keras.utils import to_categorical\n",
        "from tensorflow.keras.preprocessing.image import ImageDataGenerator\n",
        "from tensorflow.keras import optimizers\n",
        "from tensorflow.keras.callbacks import ReduceLROnPlateau, EarlyStopping\n",
        "from tensorflow.keras.datasets import cifar10\n",
        "from tensorflow.keras.applications import efficientnet_v2\n",
        "\n",
        "from sklearn.model_selection import train_test_split\n",
        "from sklearn.metrics import accuracy_score\n",
        "\n",
        "import matplotlib.pyplot as plt"
      ]
    },
    {
      "cell_type": "code",
      "execution_count": null,
      "metadata": {
        "execution": {
          "iopub.execute_input": "2022-12-23T15:41:42.119447Z",
          "iopub.status.busy": "2022-12-23T15:41:42.118858Z",
          "iopub.status.idle": "2022-12-23T15:41:42.124003Z",
          "shell.execute_reply": "2022-12-23T15:41:42.122980Z"
        },
        "papermill": {
          "duration": 0.053209,
          "end_time": "2022-12-23T15:41:42.126119",
          "exception": false,
          "start_time": "2022-12-23T15:41:42.072910",
          "status": "completed"
        },
        "tags": [],
        "id": "4636e2a4"
      },
      "outputs": [],
      "source": [
        "seed = 2022\n",
        "np.random.seed(seed)\n",
        "tf.random.set_seed(seed)"
      ]
    },
    {
      "cell_type": "code",
      "execution_count": null,
      "metadata": {
        "execution": {
          "iopub.execute_input": "2022-12-23T15:41:42.308152Z",
          "iopub.status.busy": "2022-12-23T15:41:42.307463Z",
          "iopub.status.idle": "2022-12-23T15:41:57.221027Z",
          "shell.execute_reply": "2022-12-23T15:41:57.220016Z"
        },
        "papermill": {
          "duration": 14.962241,
          "end_time": "2022-12-23T15:41:57.223365",
          "exception": false,
          "start_time": "2022-12-23T15:41:42.261124",
          "status": "completed"
        },
        "tags": [],
        "id": "1bfa1655",
        "outputId": "bd8f77f1-d41c-4c16-bdeb-0c8dce63591b"
      },
      "outputs": [
        {
          "name": "stdout",
          "output_type": "stream",
          "text": [
            "Downloading data from https://www.cs.toronto.edu/~kriz/cifar-10-python.tar.gz\n",
            "170500096/170498071 [==============================] - 12s 0us/step\n",
            "170508288/170498071 [==============================] - 12s 0us/step\n"
          ]
        }
      ],
      "source": [
        "(train_data, train_label), (test_data, test_label) = cifar10.load_data()\n",
        "train_label = to_categorical(train_label)\n",
        "test_label = to_categorical(test_label)\n",
        "train_data = train_data.astype(\"float32\")\n",
        "test_data = test_data.astype(\"float32\")\n",
        "#EfficientNetV2 models expect their inputs to be float tensors of pixels with values in the [0-255] range."
      ]
    },
    {
      "cell_type": "code",
      "execution_count": null,
      "metadata": {
        "execution": {
          "iopub.execute_input": "2022-12-23T15:41:57.433591Z",
          "iopub.status.busy": "2022-12-23T15:41:57.432512Z",
          "iopub.status.idle": "2022-12-23T15:41:57.830791Z",
          "shell.execute_reply": "2022-12-23T15:41:57.829587Z"
        },
        "papermill": {
          "duration": 0.454282,
          "end_time": "2022-12-23T15:41:57.833214",
          "exception": false,
          "start_time": "2022-12-23T15:41:57.378932",
          "status": "completed"
        },
        "tags": [],
        "id": "69ddaadf"
      },
      "outputs": [],
      "source": [
        "X_train, X_valid, y_train, y_valid = train_test_split(train_data, train_label, random_state=seed, shuffle=True)"
      ]
    },
    {
      "cell_type": "code",
      "execution_count": null,
      "metadata": {
        "execution": {
          "iopub.execute_input": "2022-12-23T15:41:58.042461Z",
          "iopub.status.busy": "2022-12-23T15:41:58.041817Z",
          "iopub.status.idle": "2022-12-23T15:41:58.047121Z",
          "shell.execute_reply": "2022-12-23T15:41:58.046196Z"
        },
        "papermill": {
          "duration": 0.060286,
          "end_time": "2022-12-23T15:41:58.049118",
          "exception": false,
          "start_time": "2022-12-23T15:41:57.988832",
          "status": "completed"
        },
        "tags": [],
        "id": "471dcdb7"
      },
      "outputs": [],
      "source": [
        "train_gen = ImageDataGenerator(rotation_range=15, width_shift_range=0.2, zoom_range=0.2, horizontal_flip=True)\n",
        "train_generator = train_gen.flow(X_train, y_train, batch_size=32)"
      ]
    },
    {
      "cell_type": "code",
      "execution_count": null,
      "metadata": {
        "execution": {
          "iopub.execute_input": "2022-12-23T15:41:58.256493Z",
          "iopub.status.busy": "2022-12-23T15:41:58.255562Z",
          "iopub.status.idle": "2022-12-23T15:41:58.263388Z",
          "shell.execute_reply": "2022-12-23T15:41:58.262412Z"
        },
        "papermill": {
          "duration": 0.062688,
          "end_time": "2022-12-23T15:41:58.265515",
          "exception": false,
          "start_time": "2022-12-23T15:41:58.202827",
          "status": "completed"
        },
        "tags": [],
        "id": "e5af9a4b"
      },
      "outputs": [],
      "source": [
        "input_shape = (32, 32, 3) #Cifar10 image size\n",
        "resized_shape = (224, 224, 3) #EfficientNetV2B0 model input shape\n",
        "num_classes = 10\n",
        "\n",
        "def build_model():\n",
        "    inputs = Input(shape=input_shape)\n",
        "    x = tf.keras.layers.Lambda(lambda image: tf.image.resize(image, resized_shape[:2]))(inputs) #Resize image to  size 224x224\n",
        "    base_model = efficientnet_v2.EfficientNetV2B0(include_top=False, input_shape=resized_shape, weights=\"imagenet\")\n",
        "    x = base_model(x)\n",
        "    x = GlobalAveragePooling2D()(x)\n",
        "    x = Dropout(0.3)(x)\n",
        "    outputs = Dense(num_classes, activation=\"softmax\")(x)\n",
        "    model = Model(inputs=inputs, outputs=outputs)\n",
        "    return model"
      ]
    },
    {
      "cell_type": "code",
      "execution_count": null,
      "metadata": {
        "execution": {
          "iopub.execute_input": "2022-12-23T15:41:58.475131Z",
          "iopub.status.busy": "2022-12-23T15:41:58.474457Z",
          "iopub.status.idle": "2022-12-23T16:32:16.578953Z",
          "shell.execute_reply": "2022-12-23T16:32:16.577973Z"
        },
        "papermill": {
          "duration": 3018.16142,
          "end_time": "2022-12-23T16:32:16.581042",
          "exception": false,
          "start_time": "2022-12-23T15:41:58.419622",
          "status": "completed"
        },
        "tags": [],
        "id": "37ef65d7",
        "outputId": "94757e92-b185-4fc9-ccfc-b49b78f9d2aa"
      },
      "outputs": [
        {
          "name": "stdout",
          "output_type": "stream",
          "text": [
            "Downloading data from https://storage.googleapis.com/tensorflow/keras-applications/efficientnet_v2/efficientnetv2-b0_notop.h5\n",
            "24281088/24274472 [==============================] - 2s 0us/step\n",
            "24289280/24274472 [==============================] - 2s 0us/step\n",
            "Model: \"model\"\n",
            "_________________________________________________________________\n",
            " Layer (type)                Output Shape              Param #   \n",
            "=================================================================\n",
            " input_1 (InputLayer)        [(None, 32, 32, 3)]       0         \n",
            "                                                                 \n",
            " lambda (Lambda)             (None, 224, 224, 3)       0         \n",
            "                                                                 \n",
            " efficientnetv2-b0 (Function  (None, 7, 7, 1280)       5919312   \n",
            " al)                                                             \n",
            "                                                                 \n",
            " global_average_pooling2d (G  (None, 1280)             0         \n",
            " lobalAveragePooling2D)                                          \n",
            "                                                                 \n",
            " dropout (Dropout)           (None, 1280)              0         \n",
            "                                                                 \n",
            " dense (Dense)               (None, 10)                12810     \n",
            "                                                                 \n",
            "=================================================================\n",
            "Total params: 5,932,122\n",
            "Trainable params: 5,871,514\n",
            "Non-trainable params: 60,608\n",
            "_________________________________________________________________\n",
            "\n",
            "\n",
            "Epoch 1/20\n"
          ]
        },
        {
          "name": "stderr",
          "output_type": "stream",
          "text": [
            "2022-12-23 15:42:14.780067: W tensorflow/stream_executor/gpu/asm_compiler.cc:111] *** WARNING *** You are using ptxas 11.0.221, which is older than 11.1. ptxas before 11.1 is known to miscompile XLA code, leading to incorrect results or invalid-address errors.\n",
            "\n",
            "You may not need to update to CUDA 11.1; cherry-picking the ptxas binary is often sufficient.\n"
          ]
        },
        {
          "name": "stdout",
          "output_type": "stream",
          "text": [
            "1172/1172 [==============================] - ETA: 0s - loss: 0.5387 - accuracy: 0.8177"
          ]
        },
        {
          "name": "stderr",
          "output_type": "stream",
          "text": [
            "2022-12-23 15:44:25.649159: W tensorflow/core/framework/cpu_allocator_impl.cc:82] Allocation of 153600000 exceeds 10% of free system memory.\n",
            "2022-12-23 15:44:25.905360: W tensorflow/core/framework/cpu_allocator_impl.cc:82] Allocation of 153600000 exceeds 10% of free system memory.\n"
          ]
        },
        {
          "name": "stdout",
          "output_type": "stream",
          "text": [
            "1172/1172 [==============================] - 153s 121ms/step - loss: 0.5387 - accuracy: 0.8177 - val_loss: 0.1840 - val_accuracy: 0.9389 - lr: 0.0100\n",
            "Epoch 2/20\n",
            "1172/1172 [==============================] - 139s 119ms/step - loss: 0.2553 - accuracy: 0.9136 - val_loss: 0.1435 - val_accuracy: 0.9495 - lr: 0.0100\n",
            "Epoch 3/20\n",
            "1172/1172 [==============================] - 138s 117ms/step - loss: 0.1777 - accuracy: 0.9393 - val_loss: 0.1355 - val_accuracy: 0.9530 - lr: 0.0100\n",
            "Epoch 4/20\n",
            "1172/1172 [==============================] - 148s 126ms/step - loss: 0.1430 - accuracy: 0.9509 - val_loss: 0.1238 - val_accuracy: 0.9602 - lr: 0.0100\n",
            "Epoch 5/20\n",
            "1172/1172 [==============================] - 139s 119ms/step - loss: 0.1154 - accuracy: 0.9598 - val_loss: 0.1182 - val_accuracy: 0.9586 - lr: 0.0100\n",
            "Epoch 6/20\n",
            "1172/1172 [==============================] - ETA: 0s - loss: 0.0931 - accuracy: 0.9683\n",
            "Epoch 6: ReduceLROnPlateau reducing learning rate to 0.006999999843537807.\n",
            "1172/1172 [==============================] - 138s 118ms/step - loss: 0.0931 - accuracy: 0.9683 - val_loss: 0.1192 - val_accuracy: 0.9628 - lr: 0.0100\n",
            "Epoch 7/20\n",
            "1172/1172 [==============================] - 138s 117ms/step - loss: 0.0633 - accuracy: 0.9785 - val_loss: 0.1009 - val_accuracy: 0.9682 - lr: 0.0070\n",
            "Epoch 8/20\n",
            "1172/1172 [==============================] - ETA: 0s - loss: 0.0518 - accuracy: 0.9817\n",
            "Epoch 8: ReduceLROnPlateau reducing learning rate to 0.004899999825283885.\n",
            "1172/1172 [==============================] - 138s 118ms/step - loss: 0.0518 - accuracy: 0.9817 - val_loss: 0.1027 - val_accuracy: 0.9682 - lr: 0.0070\n",
            "Epoch 9/20\n",
            "1172/1172 [==============================] - 138s 118ms/step - loss: 0.0378 - accuracy: 0.9871 - val_loss: 0.0979 - val_accuracy: 0.9719 - lr: 0.0049\n",
            "Epoch 10/20\n",
            "1172/1172 [==============================] - ETA: 0s - loss: 0.0312 - accuracy: 0.9897\n",
            "Epoch 10: ReduceLROnPlateau reducing learning rate to 0.0034300000406801696.\n",
            "1172/1172 [==============================] - 138s 118ms/step - loss: 0.0312 - accuracy: 0.9897 - val_loss: 0.1002 - val_accuracy: 0.9697 - lr: 0.0049\n",
            "Epoch 11/20\n",
            "1172/1172 [==============================] - 138s 118ms/step - loss: 0.0262 - accuracy: 0.9914 - val_loss: 0.0927 - val_accuracy: 0.9734 - lr: 0.0034\n",
            "Epoch 12/20\n",
            "1172/1172 [==============================] - 138s 118ms/step - loss: 0.0225 - accuracy: 0.9930 - val_loss: 0.0919 - val_accuracy: 0.9730 - lr: 0.0034\n",
            "Epoch 13/20\n",
            "1172/1172 [==============================] - ETA: 0s - loss: 0.0183 - accuracy: 0.9944\n",
            "Epoch 13: ReduceLROnPlateau reducing learning rate to 0.002401000028476119.\n",
            "1172/1172 [==============================] - 138s 117ms/step - loss: 0.0183 - accuracy: 0.9944 - val_loss: 0.0944 - val_accuracy: 0.9725 - lr: 0.0034\n",
            "Epoch 14/20\n",
            "1172/1172 [==============================] - 138s 117ms/step - loss: 0.0162 - accuracy: 0.9948 - val_loss: 0.0912 - val_accuracy: 0.9722 - lr: 0.0024\n",
            "Epoch 15/20\n",
            "1172/1172 [==============================] - ETA: 0s - loss: 0.0144 - accuracy: 0.9957\n",
            "Epoch 15: ReduceLROnPlateau reducing learning rate to 0.0016807000851258634.\n",
            "1172/1172 [==============================] - 149s 127ms/step - loss: 0.0144 - accuracy: 0.9957 - val_loss: 0.0957 - val_accuracy: 0.9732 - lr: 0.0024\n",
            "Epoch 16/20\n",
            "1172/1172 [==============================] - ETA: 0s - loss: 0.0124 - accuracy: 0.9963\n",
            "Epoch 16: ReduceLROnPlateau reducing learning rate to 0.0011764900758862494.\n",
            "1172/1172 [==============================] - 149s 127ms/step - loss: 0.0124 - accuracy: 0.9963 - val_loss: 0.0916 - val_accuracy: 0.9742 - lr: 0.0017\n",
            "Epoch 17/20\n",
            "1172/1172 [==============================] - 148s 126ms/step - loss: 0.0117 - accuracy: 0.9966 - val_loss: 0.0906 - val_accuracy: 0.9755 - lr: 0.0012\n",
            "Epoch 18/20\n",
            "1172/1172 [==============================] - ETA: 0s - loss: 0.0107 - accuracy: 0.9967\n",
            "Epoch 18: ReduceLROnPlateau reducing learning rate to 0.0008235430694185197.\n",
            "1172/1172 [==============================] - 140s 120ms/step - loss: 0.0107 - accuracy: 0.9967 - val_loss: 0.0932 - val_accuracy: 0.9746 - lr: 0.0012\n",
            "Epoch 19/20\n",
            "1172/1172 [==============================] - ETA: 0s - loss: 0.0101 - accuracy: 0.9967\n",
            "Epoch 19: ReduceLROnPlateau reducing learning rate to 0.0005764801404438912.\n",
            "1172/1172 [==============================] - 138s 118ms/step - loss: 0.0101 - accuracy: 0.9967 - val_loss: 0.0925 - val_accuracy: 0.9748 - lr: 8.2354e-04\n",
            "Epoch 20/20\n",
            "1172/1172 [==============================] - ETA: 0s - loss: 0.0098 - accuracy: 0.9969\n",
            "Epoch 20: ReduceLROnPlateau reducing learning rate to 0.0004035360820125788.\n",
            "1172/1172 [==============================] - 148s 126ms/step - loss: 0.0098 - accuracy: 0.9969 - val_loss: 0.0906 - val_accuracy: 0.9755 - lr: 5.7648e-04\n",
            "Epoch 20: early stopping\n"
          ]
        },
        {
          "name": "stderr",
          "output_type": "stream",
          "text": [
            "2022-12-23 16:32:05.843329: W tensorflow/core/framework/cpu_allocator_impl.cc:82] Allocation of 122880000 exceeds 10% of free system memory.\n",
            "2022-12-23 16:32:06.040485: W tensorflow/core/framework/cpu_allocator_impl.cc:82] Allocation of 122880000 exceeds 10% of free system memory.\n"
          ]
        },
        {
          "name": "stdout",
          "output_type": "stream",
          "text": [
            "\n",
            "Test Accuracy:  0.9715\n"
          ]
        }
      ],
      "source": [
        "model = build_model()\n",
        "\n",
        "plateau = ReduceLROnPlateau(monitor=\"val_loss\", factor=0.7, patience=1, verbose=1)\n",
        "earlystopping = EarlyStopping(monitor=\"val_loss\", patience=3, verbose=1)\n",
        "\n",
        "model.compile(optimizer=optimizers.SGD(learning_rate=0.01, momentum=0.9),\n",
        "              loss=\"categorical_crossentropy\",\n",
        "              metrics=[\"accuracy\"])\n",
        "\n",
        "model.summary()\n",
        "print(\"\\n\")\n",
        "\n",
        "history = model.fit(train_generator,\n",
        "                    epochs=20,\n",
        "                    validation_data=(X_valid, y_valid),\n",
        "                    callbacks=[plateau, earlystopping]\n",
        "                   )\n",
        "print(\"\\nTest Accuracy: \", accuracy_score(np.argmax(test_label, axis=1), np.argmax(model.predict(test_data), axis=1)))"
      ]
    },
    {
      "cell_type": "markdown",
      "metadata": {
        "papermill": {
          "duration": 1.565525,
          "end_time": "2022-12-23T16:32:19.473826",
          "exception": false,
          "start_time": "2022-12-23T16:32:17.908301",
          "status": "completed"
        },
        "tags": [],
        "id": "1a750900"
      },
      "source": [
        "**Plot learning history**"
      ]
    },
    {
      "cell_type": "code",
      "execution_count": null,
      "metadata": {
        "execution": {
          "iopub.execute_input": "2022-12-23T16:32:22.610432Z",
          "iopub.status.busy": "2022-12-23T16:32:22.609949Z",
          "iopub.status.idle": "2022-12-23T16:32:23.031375Z",
          "shell.execute_reply": "2022-12-23T16:32:23.030447Z"
        },
        "papermill": {
          "duration": 2.208359,
          "end_time": "2022-12-23T16:32:23.033738",
          "exception": false,
          "start_time": "2022-12-23T16:32:20.825379",
          "status": "completed"
        },
        "tags": [],
        "id": "1a532cf1",
        "outputId": "b6097a6f-041c-460e-a78c-89fec63576bf"
      },
      "outputs": [
        {
          "data": {
            "text/plain": [
              "<matplotlib.legend.Legend at 0x7febf0e18d50>"
            ]
          },
          "execution_count": 10,
          "metadata": {},
          "output_type": "execute_result"
        },
        {
          "data": {
            "image/png": "[encoded data removed]",
            "text/plain": [
              "<Figure size 864x288 with 2 Axes>"
            ]
          },
          "metadata": {
            "needs_background": "light"
          },
          "output_type": "display_data"
        }
      ],
      "source": [
        "fig, ax = plt.subplots(figsize=(12, 4), nrows=1, ncols=2)\n",
        "ax[0].plot(history.history[\"loss\"], c=\"r\", label=\"train loss\")\n",
        "ax[0].plot(history.history[\"val_loss\"], c=\"b\", label=\"val loss\")\n",
        "ax[0].set_xlabel(\"Epoch\")\n",
        "ax[0].set_ylabel(\"Loss\")\n",
        "ax[0].legend()\n",
        "\n",
        "ax[1].plot(history.history[\"accuracy\"], c=\"r\", label=\"train accuracy\")\n",
        "ax[1].plot(history.history[\"val_accuracy\"], c=\"b\", label=\"val accuracy\")\n",
        "ax[1].set_xlabel(\"Epoch\")\n",
        "ax[1].set_ylabel(\"Accuracy\")\n",
        "ax[1].legend()"
      ]
    },
    {
      "cell_type": "markdown",
      "source": [
        "### **Comparisons between EfficientNet, BiT, MLP-Mixer, and ConvNeXt**"
      ],
      "metadata": {
        "id": "2taQ0kU4Zf9M"
      }
    },
    {
      "cell_type": "code",
      "execution_count": null,
      "metadata": {
        "colab": {
          "base_uri": "https://localhost:8080/"
        },
        "id": "3icaSKmaPEG0",
        "outputId": "846d2fab-1182-4ca7-ecb6-14c315862179"
      },
      "outputs": [
        {
          "output_type": "stream",
          "name": "stdout",
          "text": [
            "\u001b[2K     \u001b[90m━━━━━━━━━━━━━━━━━━━━━━━━━━━━━━━━━━━━━━━━\u001b[0m \u001b[32m510.5/510.5 kB\u001b[0m \u001b[31m3.7 MB/s\u001b[0m eta \u001b[36m0:00:00\u001b[0m\n",
            "\u001b[2K     \u001b[90m━━━━━━━━━━━━━━━━━━━━━━━━━━━━━━━━━━━━━━━━\u001b[0m \u001b[32m116.3/116.3 kB\u001b[0m \u001b[31m9.0 MB/s\u001b[0m eta \u001b[36m0:00:00\u001b[0m\n",
            "\u001b[2K     \u001b[90m━━━━━━━━━━━━━━━━━━━━━━━━━━━━━━━━━━━━━━━━\u001b[0m \u001b[32m194.1/194.1 kB\u001b[0m \u001b[31m7.1 MB/s\u001b[0m eta \u001b[36m0:00:00\u001b[0m\n",
            "\u001b[2K     \u001b[90m━━━━━━━━━━━━━━━━━━━━━━━━━━━━━━━━━━━━━━━━\u001b[0m \u001b[32m134.8/134.8 kB\u001b[0m \u001b[31m4.3 MB/s\u001b[0m eta \u001b[36m0:00:00\u001b[0m\n",
            "\u001b[?25h"
          ]
        }
      ],
      "source": [
        "!pip install -q transformers datasets"
      ]
    },
    {
      "cell_type": "code",
      "source": [
        "from datasets import load_dataset\n",
        "\n",
        "# we can load a custom dataset using the \"imagefolder\" feature\n",
        "# details: https://huggingface.co/docs/datasets/image_process#imagefolder\n",
        "# supports far more than just zip files\n",
        "dataset = load_dataset(\"imagefolder\", data_files=\"/content/EuroSAT_RGB.zip\")"
      ],
      "metadata": {
        "id": "yNthodWiPUgs"
      },
      "execution_count": null,
      "outputs": []
    },
    {
      "cell_type": "code",
      "source": [
        "dataset[\"train\"].features"
      ],
      "metadata": {
        "colab": {
          "base_uri": "https://localhost:8080/"
        },
        "id": "R5uIcoMYPya1",
        "outputId": "1861cf91-3e1c-46e7-c3e9-e4be98050b1b"
      },
      "execution_count": null,
      "outputs": [
        {
          "output_type": "execute_result",
          "data": {
            "text/plain": [
              "{'image': Image(decode=True, id=None),\n",
              " 'label': ClassLabel(names=['AnnualCrop', 'Forest', 'HerbaceousVegetation', 'Highway', 'Industrial', 'Pasture', 'PermanentCrop', 'Residential', 'River', 'SeaLake'], id=None)}"
            ]
          },
          "metadata": {},
          "execution_count": 24
        }
      ]
    },
    {
      "cell_type": "code",
      "source": [
        "example = dataset[\"train\"][0]\n",
        "example[\"image\"]"
      ],
      "metadata": {
        "colab": {
          "base_uri": "https://localhost:8080/",
          "height": 81
        },
        "id": "h3R_mxV0QG5t",
        "outputId": "717fd39f-c64d-44ea-ec9b-32734afc0f1b"
      },
      "execution_count": null,
      "outputs": [
        {
          "output_type": "execute_result",
          "data": {
            "text/plain": [
              "<PIL.JpegImagePlugin.JpegImageFile image mode=RGB size=64x64>"
            ],
            "image/png": "[encoded data removed]"
          },
          "metadata": {},
          "execution_count": 25
        }
      ]
    },
    {
      "cell_type": "code",
      "source": [
        "example[\"label\"]"
      ],
      "metadata": {
        "colab": {
          "base_uri": "https://localhost:8080/"
        },
        "id": "4oyBC3nPQPBR",
        "outputId": "3c0f2c5a-e7f3-47cc-feec-f039affa3e09"
      },
      "execution_count": null,
      "outputs": [
        {
          "output_type": "execute_result",
          "data": {
            "text/plain": [
              "3"
            ]
          },
          "metadata": {},
          "execution_count": 26
        }
      ]
    },
    {
      "cell_type": "code",
      "source": [
        "labels = dataset[\"train\"].features[\"label\"].names\n",
        "print(labels)"
      ],
      "metadata": {
        "colab": {
          "base_uri": "https://localhost:8080/"
        },
        "id": "SHNiWn7xP4O-",
        "outputId": "1d8c8b5b-609d-4489-b988-5c33440ab8d9"
      },
      "execution_count": null,
      "outputs": [
        {
          "output_type": "stream",
          "name": "stdout",
          "text": [
            "['AnnualCrop', 'Forest', 'HerbaceousVegetation', 'Highway', 'Industrial', 'Pasture', 'PermanentCrop', 'Residential', 'River', 'SeaLake']\n"
          ]
        }
      ]
    },
    {
      "cell_type": "code",
      "source": [
        "id2label = {k:v for k,v in enumerate(labels)}\n",
        "label2id = {v:k for k,v in enumerate(labels)}\n",
        "print(id2label)"
      ],
      "metadata": {
        "colab": {
          "base_uri": "https://localhost:8080/"
        },
        "id": "J6QJJaucQDPU",
        "outputId": "60d4d197-858f-414d-eda0-27c7d07a3c79"
      },
      "execution_count": null,
      "outputs": [
        {
          "output_type": "stream",
          "name": "stdout",
          "text": [
            "{0: 'AnnualCrop', 1: 'Forest', 2: 'HerbaceousVegetation', 3: 'Highway', 4: 'Industrial', 5: 'Pasture', 6: 'PermanentCrop', 7: 'Residential', 8: 'River', 9: 'SeaLake'}\n"
          ]
        }
      ]
    },
    {
      "cell_type": "code",
      "source": [
        "id2label[3]"
      ],
      "metadata": {
        "colab": {
          "base_uri": "https://localhost:8080/",
          "height": 35
        },
        "id": "bt4xWs6eQVO-",
        "outputId": "ee65a8fb-d68c-427c-cd18-cb805dffac6d"
      },
      "execution_count": null,
      "outputs": [
        {
          "output_type": "execute_result",
          "data": {
            "text/plain": [
              "'Highway'"
            ],
            "application/vnd.google.colaboratory.intrinsic+json": {
              "type": "string"
            }
          },
          "metadata": {},
          "execution_count": 23
        }
      ]
    },
    {
      "cell_type": "code",
      "source": [
        "from datasets import load_dataset\n",
        "\n",
        "dataset = load_dataset(\"nielsr/eurosat-demo\")"
      ],
      "metadata": {
        "colab": {
          "base_uri": "https://localhost:8080/",
          "height": 113,
          "referenced_widgets": [
            "156de4822d67455bac6ce4a808a1d597",
            "7179be608cc54452b99d688f714af14c",
            "9f866f0e0c8a4ff88dff452cbf82d5a5",
            "eea47db0dcfa4722b9323de72507c429",
            "4309b85415694210a80da956c0e43f92",
            "c476e375ae264c20a0a3b4527a2eaadc",
            "071c560ae77d4df0843384f696012993",
            "5689e7c140f34a1b8d01d27c055227ad",
            "2c001e17aefb4b298b210896c2672aef",
            "bc37e0de66d44a90bb15a166c78f8e76",
            "7434830dbf5444e686cba0887b01d007",
            "bb39520ddca341a0a4c3d84abbe4a5e2",
            "07d80b0d95264bd497eec2659d450789",
            "3d28d7608bdb4f88932a391cc6dea48d",
            "940483424bc6474cae9e26a1f6d5fc4a",
            "2b895705e846401bbdd9aba54f3d22a9",
            "8e216624ef8c4560bf57d5c9bf5c8fd7",
            "cc063dd6b97140a9942a9f186a7c9649",
            "807c24a0b98744f4b17d32f7b74adc7f",
            "24b90083fbbc4cbca1e81ce1ba082024",
            "d26d1b0a49244915a941d086b898bd30",
            "4020d2a7832143279061b996d122bca9",
            "5354c934efb94fef861cd5b188b1c097",
            "c5c25d592210448aa221ac3b97980239",
            "140e846304e84d2bb51d66c7b63eeda7",
            "037304d1f74e403c9f99bbd4d8732a74",
            "5decb1ff8b794fdca758e0ef665ca630",
            "0572eefb682a41df875871af80523cdc",
            "f61072009ccb489c880a914282f3e50e",
            "463fdbdcc18a402ebdf7794ed07fbce3",
            "368f012bd71242cf9393a8941e1356a5",
            "f6b0533488ce466eb26de2558450fa85",
            "1ef49a3cdcb04beb89dcb3f870c686cd"
          ]
        },
        "id": "tNVIxxuUQlnb",
        "outputId": "0370e0e3-baa0-4d5c-c9ac-28300c60ffee"
      },
      "execution_count": null,
      "outputs": [
        {
          "output_type": "display_data",
          "data": {
            "text/plain": [
              "Downloading metadata:   0%|          | 0.00/943 [00:00<?, ?B/s]"
            ],
            "application/vnd.jupyter.widget-view+json": {
              "version_major": 2,
              "version_minor": 0,
              "model_id": "156de4822d67455bac6ce4a808a1d597"
            }
          },
          "metadata": {}
        },
        {
          "output_type": "display_data",
          "data": {
            "text/plain": [
              "Downloading data:   0%|          | 0.00/88.4M [00:00<?, ?B/s]"
            ],
            "application/vnd.jupyter.widget-view+json": {
              "version_major": 2,
              "version_minor": 0,
              "model_id": "bb39520ddca341a0a4c3d84abbe4a5e2"
            }
          },
          "metadata": {}
        },
        {
          "output_type": "display_data",
          "data": {
            "text/plain": [
              "Generating train split:   0%|          | 0/27000 [00:00<?, ? examples/s]"
            ],
            "application/vnd.jupyter.widget-view+json": {
              "version_major": 2,
              "version_minor": 0,
              "model_id": "5354c934efb94fef861cd5b188b1c097"
            }
          },
          "metadata": {}
        }
      ]
    },
    {
      "cell_type": "code",
      "source": [
        "dataset[\"train\"][0][\"image\"]"
      ],
      "metadata": {
        "colab": {
          "base_uri": "https://localhost:8080/",
          "height": 81
        },
        "id": "P8kb8QoNUerW",
        "outputId": "6acc990c-8b1c-4c6f-8a45-65cc2e564c16"
      },
      "execution_count": null,
      "outputs": [
        {
          "output_type": "execute_result",
          "data": {
            "text/plain": [
              "<PIL.JpegImagePlugin.JpegImageFile image mode=RGB size=64x64>"
            ],
            "image/png": "[encoded data removed]"
          },
          "metadata": {},
          "execution_count": 12
        }
      ]
    },
    {
      "cell_type": "code",
      "source": [
        "from transformers import AutoImageProcessor\n",
        "\n",
        "image_processor = AutoImageProcessor.from_pretrained(\"facebook/convnext-tiny-224\")"
      ],
      "metadata": {
        "colab": {
          "base_uri": "https://localhost:8080/"
        },
        "id": "5CiEK4ZkQ4k0",
        "outputId": "7d92bfb5-071b-4ccd-c7d4-cf91048d1c10"
      },
      "execution_count": null,
      "outputs": [
        {
          "output_type": "stream",
          "name": "stderr",
          "text": [
            "Could not find image processor class in the image processor config or the model config. Loading based on pattern matching with the model's feature extractor configuration. Please open a PR/issue to update `preprocessor_config.json` to use `image_processor_type` instead of `feature_extractor_type`. This warning will be removed in v4.40.\n"
          ]
        }
      ]
    },
    {
      "cell_type": "code",
      "source": [
        "print(image_processor)"
      ],
      "metadata": {
        "colab": {
          "base_uri": "https://localhost:8080/"
        },
        "id": "9qeJ1LCfRcNq",
        "outputId": "abed6a51-563c-4f8a-c825-328884f7b7c2"
      },
      "execution_count": null,
      "outputs": [
        {
          "output_type": "stream",
          "name": "stdout",
          "text": [
            "ConvNextImageProcessor {\n",
            "  \"crop_pct\": 0.875,\n",
            "  \"do_normalize\": true,\n",
            "  \"do_rescale\": true,\n",
            "  \"do_resize\": true,\n",
            "  \"image_mean\": [\n",
            "    0.485,\n",
            "    0.456,\n",
            "    0.406\n",
            "  ],\n",
            "  \"image_processor_type\": \"ConvNextImageProcessor\",\n",
            "  \"image_std\": [\n",
            "    0.229,\n",
            "    0.224,\n",
            "    0.225\n",
            "  ],\n",
            "  \"resample\": 3,\n",
            "  \"rescale_factor\": 0.00392156862745098,\n",
            "  \"size\": {\n",
            "    \"shortest_edge\": 224\n",
            "  }\n",
            "}\n",
            "\n"
          ]
        }
      ]
    },
    {
      "cell_type": "code",
      "source": [
        "from torchvision.transforms import (\n",
        "    Compose,\n",
        "    Normalize,\n",
        "    RandomHorizontalFlip,\n",
        "    RandomResizedCrop,\n",
        "    ToTensor,\n",
        ")\n",
        "\n",
        "normalize = Normalize(mean=image_processor.image_mean, std=image_processor.image_std)\n",
        "\n",
        "transform = Compose(\n",
        "    [\n",
        "     RandomResizedCrop(image_processor.size[\"shortest_edge\"]),\n",
        "     RandomHorizontalFlip(),\n",
        "     ToTensor(),\n",
        "     normalize\n",
        "    ]\n",
        ")\n",
        "\n",
        "def train_transforms(examples):\n",
        "  examples[\"pixel_values\"] = [transform(image.convert(\"RGB\")) for image in examples[\"image\"]]\n",
        "\n",
        "  return examples"
      ],
      "metadata": {
        "id": "6O5NiF-pRfG5"
      },
      "execution_count": null,
      "outputs": []
    },
    {
      "cell_type": "code",
      "source": [
        "dataset"
      ],
      "metadata": {
        "colab": {
          "base_uri": "https://localhost:8080/"
        },
        "id": "7qu2z2hPSgsm",
        "outputId": "78b37a7a-422d-4afd-e2e5-399a15ec6ad4"
      },
      "execution_count": null,
      "outputs": [
        {
          "output_type": "execute_result",
          "data": {
            "text/plain": [
              "DatasetDict({\n",
              "    train: Dataset({\n",
              "        features: ['image', 'label'],\n",
              "        num_rows: 27000\n",
              "    })\n",
              "})"
            ]
          },
          "metadata": {},
          "execution_count": 33
        }
      ]
    },
    {
      "cell_type": "code",
      "source": [
        "processed_dataset = dataset.with_transform(train_transforms)"
      ],
      "metadata": {
        "id": "BZfbk94VScUZ"
      },
      "execution_count": null,
      "outputs": []
    },
    {
      "cell_type": "code",
      "source": [
        "processed_dataset[\"train\"][0].keys()"
      ],
      "metadata": {
        "colab": {
          "base_uri": "https://localhost:8080/"
        },
        "id": "H2R1E4SJSnkW",
        "outputId": "e85dd6a4-2e01-4a33-8b39-17f7d46cfcd8"
      },
      "execution_count": null,
      "outputs": [
        {
          "output_type": "execute_result",
          "data": {
            "text/plain": [
              "dict_keys(['image', 'label', 'pixel_values'])"
            ]
          },
          "metadata": {},
          "execution_count": 38
        }
      ]
    },
    {
      "cell_type": "code",
      "source": [
        "from torch.utils.data import DataLoader\n",
        "\n",
        "def collate_fn(examples):\n",
        "  pixel_values = torch.stack([example[\"pixel_values\"] for example in examples])\n",
        "  labels = torch.tensor([example[\"label\"] for example in examples])\n",
        "\n",
        "  return {\"pixel_values\": pixel_values, \"labels\": labels}\n",
        "\n",
        "dataloader = DataLoader(processed_dataset[\"train\"], collate_fn=collate_fn, batch_size=4, shuffle=True)"
      ],
      "metadata": {
        "id": "cpFZBYHpUMuZ"
      },
      "execution_count": null,
      "outputs": []
    },
    {
      "cell_type": "code",
      "source": [
        "batch = next(iter(dataloader))\n",
        "for k,v in batch.items():\n",
        "  print(k,v.shape)"
      ],
      "metadata": {
        "colab": {
          "base_uri": "https://localhost:8080/"
        },
        "id": "HBOBsCQMVPFF",
        "outputId": "9480d76c-22e6-4e4c-ffe4-90671ecb94b1"
      },
      "execution_count": null,
      "outputs": [
        {
          "output_type": "stream",
          "name": "stdout",
          "text": [
            "pixel_values torch.Size([4, 3, 224, 224])\n",
            "labels torch.Size([4])\n"
          ]
        }
      ]
    },
    {
      "cell_type": "code",
      "source": [
        "from transformers import AutoModelForImageClassification\n",
        "\n",
        "model = AutoModelForImageClassification.from_pretrained(\"facebook/convnext-tiny-224\",\n",
        "                                                        id2label=id2label,\n",
        "                                                        label2id=label2id,\n",
        "                                                        ignore_mismatched_sizes=True)"
      ],
      "metadata": {
        "colab": {
          "base_uri": "https://localhost:8080/",
          "height": 172,
          "referenced_widgets": [
            "70e601a5a1394a2fb13e9336fd0063f9",
            "33f3a9616b474ac2a975e52027c8d074",
            "e66dd0399925421cbf83ce66eddcf9f8",
            "02aec4fbc73c4eaf94ee604b285864c0",
            "53056a0fe94a4582a435bd34afc9a400",
            "7d94cacbdbde4689ad3c5f310948ed11",
            "b155b51cd2984c5982b267a73a11f70f",
            "eeffd61655834b50948dd1891e2ed423",
            "b94282d1fb334e1682cc957e3d29891d",
            "4ef98430c1ad44a6a21ae3f4e50b9009",
            "c54f3f11af0f4e07b10ccc33a687a12d",
            "64a97054d865458cad8b3138089f26cc",
            "b5f132aa726848bd8770f43e6558cd1e",
            "908a22e7c2cc4deeb12d351a88505f17",
            "77acc885f1d5411bb466c37bbe5a618d",
            "8c7a3e13759b4636967cec0e967bbb62",
            "efa8f530f89d456dac390cf4557a9815",
            "7bd1497c96c5409984349923467c677e",
            "67db6eb513e34f93a51a6bcfbb4d4722",
            "7c77a89c944f4eadb215d449419610b4",
            "0e81d1b4455540a6be23572d5afef910",
            "467cf85e3f154a80ac8f1b3af3e6f0a3"
          ]
        },
        "id": "Uo0vQH66S82g",
        "outputId": "129e9835-c73a-4282-f16e-4fcad72c0224"
      },
      "execution_count": null,
      "outputs": [
        {
          "output_type": "display_data",
          "data": {
            "text/plain": [
              "config.json:   0%|          | 0.00/69.6k [00:00<?, ?B/s]"
            ],
            "application/vnd.jupyter.widget-view+json": {
              "version_major": 2,
              "version_minor": 0,
              "model_id": "70e601a5a1394a2fb13e9336fd0063f9"
            }
          },
          "metadata": {}
        },
        {
          "output_type": "display_data",
          "data": {
            "text/plain": [
              "pytorch_model.bin:   0%|          | 0.00/114M [00:00<?, ?B/s]"
            ],
            "application/vnd.jupyter.widget-view+json": {
              "version_major": 2,
              "version_minor": 0,
              "model_id": "64a97054d865458cad8b3138089f26cc"
            }
          },
          "metadata": {}
        },
        {
          "output_type": "stream",
          "name": "stderr",
          "text": [
            "Some weights of ConvNextForImageClassification were not initialized from the model checkpoint at facebook/convnext-tiny-224 and are newly initialized because the shapes did not match:\n",
            "- classifier.weight: found shape torch.Size([1000, 768]) in the checkpoint and torch.Size([10, 768]) in the model instantiated\n",
            "- classifier.bias: found shape torch.Size([1000]) in the checkpoint and torch.Size([10]) in the model instantiated\n",
            "You should probably TRAIN this model on a down-stream task to be able to use it for predictions and inference.\n"
          ]
        }
      ]
    },
    {
      "cell_type": "code",
      "source": [
        "from tqdm.notebook import tqdm\n",
        "import torch\n",
        "\n",
        "optimizer = torch.optim.AdamW(model.parameters(), lr=5e-5)\n",
        "\n",
        "# move model to GPU\n",
        "device = \"cuda\" if torch.cuda.is_available() else \"cpu\"\n",
        "model.to(device)\n",
        "\n",
        "model.train()\n",
        "for epoch in range(10):\n",
        "  print(\"Epoch:\", epoch)\n",
        "  correct = 0\n",
        "  total = 0\n",
        "  for idx, batch in enumerate(tqdm(dataloader)):\n",
        "    # move batch to GPU\n",
        "    batch = {k:v.to(device) for k,v in batch.items()}\n",
        "\n",
        "    optimizer.zero_grad()\n",
        "\n",
        "    # forward pass\n",
        "    outputs = model(pixel_values=batch[\"pixel_values\"],\n",
        "                    labels=batch[\"labels\"])\n",
        "\n",
        "    loss, logits = outputs.loss, outputs.logits\n",
        "    loss.backward()\n",
        "    optimizer.step()\n",
        "\n",
        "    # metrics\n",
        "    total += batch[\"labels\"].shape[0]\n",
        "    predicted = logits.argmax(-1)\n",
        "    correct += (predicted == batch[\"labels\"]).sum().item()\n",
        "\n",
        "    accuracy = correct/total\n",
        "\n",
        "    if idx % 100 == 0:\n",
        "      print(f\"Loss after {idx} steps:\", loss.item())\n",
        "      print(f\"Accuracy after {idx} steps:\", accuracy)"
      ],
      "metadata": {
        "id": "MRrQqLr8VSOx"
      },
      "execution_count": null,
      "outputs": []
    },
    {
      "cell_type": "code",
      "source": [
        "repo_name = \"nielsr/convnext-tiny-finetuned-eurosat\"\n",
        "\n",
        "model.push_to_hub(repo_name)\n",
        "image_processor.push_to_hub(repo_name)"
      ],
      "metadata": {
        "colab": {
          "base_uri": "https://localhost:8080/",
          "height": 248,
          "referenced_widgets": [
            "819cc97f19614f18bb6fa919fae97233",
            "4d12e51f468649caa89abdcd0b22e5d1",
            "431ee5f11ec14b1c8e064b2e5f60d451",
            "fc11c399fe784ca2a6a0061f346e04c6",
            "e54d12cf6aee430bbdbd5fe9d0f6c4ea",
            "ecfb9904b2124aa68fcdb5b4a4b2b48f",
            "9e849e5772a24868a11ecb730a35555e",
            "df78c3aa28d44b73ba95900225fae026",
            "69d202a4acbe4e2a89e67c90ed2e0cb0",
            "a045163157e74c41bd4e1af62e86ddc6",
            "5a0a0f10b9f949c4b0c01c23c4dcc645"
          ]
        },
        "id": "aCiCLwVglZSg",
        "outputId": "c54d35c8-7d93-488e-be13-07feed89185c"
      },
      "execution_count": null,
      "outputs": [
        {
          "output_type": "stream",
          "name": "stderr",
          "text": [
            "/usr/local/lib/python3.7/dist-packages/huggingface_hub/hf_api.py:1004: FutureWarning: `create_repo` now takes `token` as an optional positional argument. Be sure to adapt your code!\n",
            "  FutureWarning,\n",
            "Cloning https://huggingface.co/nielsr/convnext-tiny-finetuned-eurosat into local empty directory.\n"
          ]
        },
        {
          "output_type": "display_data",
          "data": {
            "text/plain": [
              "Upload file pytorch_model.bin:   0%|          | 3.34k/106M [00:00<?, ?B/s]"
            ],
            "application/vnd.jupyter.widget-view+json": {
              "version_major": 2,
              "version_minor": 0,
              "model_id": "819cc97f19614f18bb6fa919fae97233"
            }
          },
          "metadata": {}
        },
        {
          "output_type": "stream",
          "name": "stderr",
          "text": [
            "To https://huggingface.co/nielsr/convnext-tiny-finetuned-eurosat\n",
            "   73b78e0..7a2e6c0  main -> main\n",
            "\n",
            "To https://huggingface.co/nielsr/convnext-tiny-finetuned-eurosat\n",
            "   7a2e6c0..4f3580e  main -> main\n",
            "\n"
          ]
        },
        {
          "output_type": "execute_result",
          "data": {
            "text/plain": [
              "'https://huggingface.co/nielsr/convnext-tiny-finetuned-eurosat/commit/4f3580e91046d22e9917fd94a2a36e23314e80fd'"
            ],
            "application/vnd.google.colaboratory.intrinsic+json": {
              "type": "string"
            }
          },
          "metadata": {},
          "execution_count": 26
        }
      ]
    },
    {
      "cell_type": "code",
      "source": [
        "from transformers import AutoImageProcessor, AutoModelForImageClassification\n",
        "\n",
        "feature_extractor = AutoImageProcessor.from_pretrained(\"nielsr/convnext-tiny-finetuned-eurosat\")\n",
        "model = AutoModelForImageClassification.from_pretrained(\"nielsr/convnext-tiny-finetuned-eurosat\")"
      ],
      "metadata": {
        "id": "0WwSIq1cm2Wg",
        "colab": {
          "base_uri": "https://localhost:8080/",
          "height": 151,
          "referenced_widgets": [
            "9df16d4f608948439d16bb8f5477b425",
            "f4d40627c3724a08b822d050c727205e",
            "581a149618e24ac3b1d2cd8acf4f7353",
            "5d847b80c3954aa781c0c17c817ef954",
            "a579576f63754eeda6917388ccdd072c",
            "25e81a43ad3544f1a01e99d83eccc565",
            "c18c69c973fc4a0895c38d20bfd7daec",
            "2a8e0473e0384dcbac34643b7ca90026",
            "767c75e00ea944e79ce693e8e697e47d",
            "cd7a18e7da38460ab13fc4543b981173",
            "926c52908d2b419cbdee3e698a16aaeb",
            "19aa6f3d03a64da5803bf98fce71c432",
            "041e77a4168b418895910561bb9ae9d1",
            "bd5704c850b94b51b8f0d6ac453b4c38",
            "2da8bfbd28ef44daa56b94109b3e545a",
            "f885c6d3a5fd439689200694d689861d",
            "89b50f455f2e4f2dbab13057357970e9",
            "673b5ea65c5e4794945690bd43f48b83",
            "b4683f4f268f4057a334ece1f4ec9d77",
            "11fc6089519947d89dc36427fca6aee9",
            "2f5179ff6651447b962aa1d7c1922cbe",
            "fce7c7d9d7b24029a9f9129706fa3f8c",
            "402ac5324b59487d8570c45a6677e15d",
            "2f4747739ff74cbbafb74b91c856d37e",
            "97c95f2d5a9e4cc490d929b2fe33f9a1",
            "be2cfa2a265748a8a6e8a7e6ce6354c9",
            "db683e56c2414982a14395894df4e89f",
            "e465eb24796944d9856404e5d8ca13c6",
            "3f6b67e8bac941ba9fbc832edfd7225b",
            "abdd9867f6694a4da625848c6f461bf7",
            "dfa9029ea1e349dc9d49247fb0206059",
            "215b17e9d74448b5bea4890f089d28da",
            "9a508f4f6fa749d3a5ee7ce55af0211e"
          ]
        },
        "outputId": "346a8afb-d65f-491d-abe2-3b0d15b99fb8"
      },
      "execution_count": null,
      "outputs": [
        {
          "output_type": "display_data",
          "data": {
            "text/plain": [
              "preprocessor_config.json:   0%|          | 0.00/266 [00:00<?, ?B/s]"
            ],
            "application/vnd.jupyter.widget-view+json": {
              "version_major": 2,
              "version_minor": 0,
              "model_id": "9df16d4f608948439d16bb8f5477b425"
            }
          },
          "metadata": {}
        },
        {
          "output_type": "stream",
          "name": "stderr",
          "text": [
            "Could not find image processor class in the image processor config or the model config. Loading based on pattern matching with the model's feature extractor configuration. Please open a PR/issue to update `preprocessor_config.json` to use `image_processor_type` instead of `feature_extractor_type`. This warning will be removed in v4.40.\n"
          ]
        },
        {
          "output_type": "display_data",
          "data": {
            "text/plain": [
              "config.json:   0%|          | 0.00/1.06k [00:00<?, ?B/s]"
            ],
            "application/vnd.jupyter.widget-view+json": {
              "version_major": 2,
              "version_minor": 0,
              "model_id": "19aa6f3d03a64da5803bf98fce71c432"
            }
          },
          "metadata": {}
        },
        {
          "output_type": "display_data",
          "data": {
            "text/plain": [
              "pytorch_model.bin:   0%|          | 0.00/111M [00:00<?, ?B/s]"
            ],
            "application/vnd.jupyter.widget-view+json": {
              "version_major": 2,
              "version_minor": 0,
              "model_id": "402ac5324b59487d8570c45a6677e15d"
            }
          },
          "metadata": {}
        }
      ]
    },
    {
      "cell_type": "code",
      "source": [
        "test_example = dataset[\"train\"][0]\n",
        "\n",
        "test_image = test_example[\"image\"].convert(\"RGB\")\n",
        "test_image"
      ],
      "metadata": {
        "colab": {
          "base_uri": "https://localhost:8080/",
          "height": 81
        },
        "id": "aC1bqAX3nN6s",
        "outputId": "0cc2bb16-3c99-4b9e-9702-f7ecdaed8fb9"
      },
      "execution_count": null,
      "outputs": [
        {
          "output_type": "execute_result",
          "data": {
            "text/plain": [
              "<PIL.Image.Image image mode=RGB size=64x64>"
            ],
            "image/png": "[encoded data removed]"
          },
          "metadata": {},
          "execution_count": 48
        }
      ]
    },
    {
      "cell_type": "code",
      "source": [
        "pixel_values = image_processor(test_image, return_tensors=\"pt\").pixel_values\n",
        "print(pixel_values.shape)"
      ],
      "metadata": {
        "colab": {
          "base_uri": "https://localhost:8080/"
        },
        "id": "N1wGLqiEnmxg",
        "outputId": "182b568b-efba-4a90-b5f1-8fb28a133da1"
      },
      "execution_count": null,
      "outputs": [
        {
          "output_type": "stream",
          "name": "stdout",
          "text": [
            "torch.Size([1, 3, 224, 224])\n"
          ]
        }
      ]
    },
    {
      "cell_type": "code",
      "source": [
        "import torch\n",
        "\n",
        "with torch.no_grad():\n",
        "  outputs = model(pixel_values)\n",
        "  logits = outputs.logits"
      ],
      "metadata": {
        "id": "mKTUGpkLnwEx"
      },
      "execution_count": null,
      "outputs": []
    },
    {
      "cell_type": "code",
      "source": [
        "print(logits.shape)"
      ],
      "metadata": {
        "colab": {
          "base_uri": "https://localhost:8080/"
        },
        "id": "-olpOKdLn2pu",
        "outputId": "6fbb265c-8c0b-4b3e-a1d6-6faac3e035b6"
      },
      "execution_count": null,
      "outputs": [
        {
          "output_type": "stream",
          "name": "stdout",
          "text": [
            "torch.Size([1, 10])\n"
          ]
        }
      ]
    },
    {
      "cell_type": "code",
      "source": [
        "predicted_class_idx = logits.argmax(-1).item()\n",
        "print(model.config.id2label[predicted_class_idx])"
      ],
      "metadata": {
        "colab": {
          "base_uri": "https://localhost:8080/"
        },
        "id": "X5xwyOlzn38z",
        "outputId": "3d13e0b8-ec6e-4c55-ef04-099577587a26"
      },
      "execution_count": null,
      "outputs": [
        {
          "output_type": "stream",
          "name": "stdout",
          "text": [
            "Highway\n"
          ]
        }
      ]
    },
    {
      "cell_type": "code",
      "source": [
        "from transformers import pipeline\n",
        "\n",
        "pipe = pipeline(model=\"nielsr/convnext-tiny-finetuned-eurosat\")"
      ],
      "metadata": {
        "id": "AG8eq6sCn9nH",
        "colab": {
          "base_uri": "https://localhost:8080/"
        },
        "outputId": "08d9ce4c-f43d-41e4-f9fc-42851d460364"
      },
      "execution_count": null,
      "outputs": [
        {
          "output_type": "stream",
          "name": "stderr",
          "text": [
            "Could not find image processor class in the image processor config or the model config. Loading based on pattern matching with the model's feature extractor configuration. Please open a PR/issue to update `preprocessor_config.json` to use `image_processor_type` instead of `feature_extractor_type`. This warning will be removed in v4.40.\n"
          ]
        }
      ]
    },
    {
      "cell_type": "code",
      "source": [
        "pipe(test_image)"
      ],
      "metadata": {
        "colab": {
          "base_uri": "https://localhost:8080/"
        },
        "id": "bi5jdeZXolWa",
        "outputId": "13fa8200-4c58-44f8-be27-c1793c47e095"
      },
      "execution_count": null,
      "outputs": [
        {
          "output_type": "execute_result",
          "data": {
            "text/plain": [
              "[{'label': 'Highway', 'score': 0.9996901750564575},\n",
              " {'label': 'River', 'score': 0.00015031074872240424},\n",
              " {'label': 'AnnualCrop', 'score': 4.87822326249443e-05},\n",
              " {'label': 'PermanentCrop', 'score': 3.893173561664298e-05},\n",
              " {'label': 'Industrial', 'score': 2.9273147447383963e-05}]"
            ]
          },
          "metadata": {},
          "execution_count": 56
        }
      ]
    },
    {
      "cell_type": "code",
      "source": [],
      "metadata": {
        "id": "MQt8qnZVaboy"
      },
      "execution_count": null,
      "outputs": []
    }
  ]
}